{
 "cells": [
  {
   "cell_type": "markdown",
   "metadata": {},
   "source": [
    "# Vehicle dataset\n",
    "\n",
    "This dataset contains information about used cars.\n",
    "This data can be used for a lot of purposes such as price prediction to exemplify the use of linear regression in Machine Learning. It contains information about 98 car brands. In this post, we will perform exploratory data analysis on the Cars Dataset. The data can be found here.\n",
    "The columns in the given dataset are as follows:\n",
    "\n",
    "\n",
    "## Data\n",
    "\n",
    "Data contains 8 columns.\n",
    "\n",
    "\n",
    "**Name**: This column represents contains names of cars.\n",
    "\n",
    "**Year**: This column represents years of cars\n",
    "\n",
    "**Selling_price**: This column represents Car's selling price\n",
    "\n",
    "**Km_driven**: It refers to how much distance (in kilometres) the car had travelled.\n",
    "\n",
    "**Fuel_Type**: A motor fuel (Diesel,Petrol,CNG) is a fuel that is used to provide power to the motor in motor vehicles. \n",
    "\n",
    "**Seller_type**: Defines whether the seller is a dealer or an individual.\n",
    "\n",
    "**Transmission** This column represents whether the car is manual or automatic.\n",
    "\n",
    "**Owner**: This column represents the person who bought the car or the person who has been gifted the vehicle.\n"
   ]
  },
  {
   "cell_type": "markdown",
   "metadata": {},
   "source": [
    "# Import libraries"
   ]
  },
  {
   "cell_type": "code",
   "execution_count": 1,
   "metadata": {},
   "outputs": [],
   "source": [
    "# Imports\n",
    "import numpy as np\n",
    "import pandas as pd\n",
    "import seaborn as sns\n",
    "import matplotlib.pyplot as plt\n",
    "%matplotlib inline\n",
    "import arcticdata.ExploratoryDataAnalysis as eda\n",
    "\n",
    "import warnings\n",
    "warnings.filterwarnings(\"ignore\")\n",
    "\n",
    "from sklearn.preprocessing import StandardScaler # Standard Scaler\n",
    "from sklearn.preprocessing import LabelEncoder # Label Encoder\n",
    "\n",
    "from sklearn.metrics import r2_score,mean_absolute_error,mean_squared_error\n",
    "from sklearn.model_selection import train_test_split, RandomizedSearchCV\n",
    "\n",
    "from sklearn import metrics #accuracy measure\n",
    "from sklearn.metrics import confusion_matrix #for confusion matrix\n",
    "from sklearn.metrics import classification_report #for classification_report matrix\n",
    "from sklearn.model_selection import KFold #for K-fold cross validation\n",
    "from sklearn.model_selection import cross_val_score #score evaluation\n",
    "\n",
    "# Regression algorithms \n",
    "from sklearn.linear_model import LinearRegression, Lasso, Ridge, ElasticNet\n",
    "from sklearn.neighbors import KNeighborsRegressor #KNN\n",
    "from sklearn.svm import SVR #SVR\n",
    "from sklearn.tree import DecisionTreeRegressor #Decision Tree\n",
    "from sklearn.ensemble import RandomForestRegressor #Random Forest\n",
    "from xgboost import XGBRegressor # XGBoost \n",
    "from lightgbm import LGBMRegressor # Light Gadient Boosting \n",
    "from sklearn.ensemble import GradientBoostingRegressor # Gradient \n",
    "from sklearn.ensemble import AdaBoostRegressor # AdaBoost \n",
    "from sklearn.ensemble import BaggingRegressor # Bagging\n"
   ]
  },
  {
   "cell_type": "markdown",
   "metadata": {},
   "source": [
    "#### Read data"
   ]
  },
  {
   "cell_type": "code",
   "execution_count": 2,
   "metadata": {},
   "outputs": [],
   "source": [
    "Cars = pd.read_csv(\"car data.csv\")"
   ]
  },
  {
   "cell_type": "code",
   "execution_count": 3,
   "metadata": {
    "scrolled": true
   },
   "outputs": [
    {
     "data": {
      "text/html": [
       "<div>\n",
       "<style scoped>\n",
       "    .dataframe tbody tr th:only-of-type {\n",
       "        vertical-align: middle;\n",
       "    }\n",
       "\n",
       "    .dataframe tbody tr th {\n",
       "        vertical-align: top;\n",
       "    }\n",
       "\n",
       "    .dataframe thead th {\n",
       "        text-align: right;\n",
       "    }\n",
       "</style>\n",
       "<table border=\"1\" class=\"dataframe\">\n",
       "  <thead>\n",
       "    <tr style=\"text-align: right;\">\n",
       "      <th></th>\n",
       "      <th>Car_Name</th>\n",
       "      <th>Year</th>\n",
       "      <th>Selling_Price</th>\n",
       "      <th>Present_Price</th>\n",
       "      <th>Kms_Driven</th>\n",
       "      <th>Fuel_Type</th>\n",
       "      <th>Seller_Type</th>\n",
       "      <th>Transmission</th>\n",
       "      <th>Owner</th>\n",
       "    </tr>\n",
       "  </thead>\n",
       "  <tbody>\n",
       "    <tr>\n",
       "      <th>0</th>\n",
       "      <td>ritz</td>\n",
       "      <td>2014</td>\n",
       "      <td>3.35</td>\n",
       "      <td>5.59</td>\n",
       "      <td>27000</td>\n",
       "      <td>Petrol</td>\n",
       "      <td>Dealer</td>\n",
       "      <td>Manual</td>\n",
       "      <td>0</td>\n",
       "    </tr>\n",
       "    <tr>\n",
       "      <th>1</th>\n",
       "      <td>sx4</td>\n",
       "      <td>2013</td>\n",
       "      <td>4.75</td>\n",
       "      <td>9.54</td>\n",
       "      <td>43000</td>\n",
       "      <td>Diesel</td>\n",
       "      <td>Dealer</td>\n",
       "      <td>Manual</td>\n",
       "      <td>0</td>\n",
       "    </tr>\n",
       "    <tr>\n",
       "      <th>2</th>\n",
       "      <td>ciaz</td>\n",
       "      <td>2017</td>\n",
       "      <td>7.25</td>\n",
       "      <td>9.85</td>\n",
       "      <td>6900</td>\n",
       "      <td>Petrol</td>\n",
       "      <td>Dealer</td>\n",
       "      <td>Manual</td>\n",
       "      <td>0</td>\n",
       "    </tr>\n",
       "    <tr>\n",
       "      <th>3</th>\n",
       "      <td>wagon r</td>\n",
       "      <td>2011</td>\n",
       "      <td>2.85</td>\n",
       "      <td>4.15</td>\n",
       "      <td>5200</td>\n",
       "      <td>Petrol</td>\n",
       "      <td>Dealer</td>\n",
       "      <td>Manual</td>\n",
       "      <td>0</td>\n",
       "    </tr>\n",
       "    <tr>\n",
       "      <th>4</th>\n",
       "      <td>swift</td>\n",
       "      <td>2014</td>\n",
       "      <td>4.60</td>\n",
       "      <td>6.87</td>\n",
       "      <td>42450</td>\n",
       "      <td>Diesel</td>\n",
       "      <td>Dealer</td>\n",
       "      <td>Manual</td>\n",
       "      <td>0</td>\n",
       "    </tr>\n",
       "  </tbody>\n",
       "</table>\n",
       "</div>"
      ],
      "text/plain": [
       "  Car_Name  Year  Selling_Price  Present_Price  Kms_Driven Fuel_Type  \\\n",
       "0     ritz  2014           3.35           5.59       27000    Petrol   \n",
       "1      sx4  2013           4.75           9.54       43000    Diesel   \n",
       "2     ciaz  2017           7.25           9.85        6900    Petrol   \n",
       "3  wagon r  2011           2.85           4.15        5200    Petrol   \n",
       "4    swift  2014           4.60           6.87       42450    Diesel   \n",
       "\n",
       "  Seller_Type Transmission  Owner  \n",
       "0      Dealer       Manual      0  \n",
       "1      Dealer       Manual      0  \n",
       "2      Dealer       Manual      0  \n",
       "3      Dealer       Manual      0  \n",
       "4      Dealer       Manual      0  "
      ]
     },
     "execution_count": 3,
     "metadata": {},
     "output_type": "execute_result"
    }
   ],
   "source": [
    "Cars.head()"
   ]
  },
  {
   "cell_type": "markdown",
   "metadata": {},
   "source": [
    "### View summary of dataset <a class=\"anchor\" id=\"4.5\"></a>"
   ]
  },
  {
   "cell_type": "code",
   "execution_count": 4,
   "metadata": {},
   "outputs": [
    {
     "name": "stdout",
     "output_type": "stream",
     "text": [
      "<class 'pandas.core.frame.DataFrame'>\n",
      "RangeIndex: 301 entries, 0 to 300\n",
      "Data columns (total 9 columns):\n",
      " #   Column         Non-Null Count  Dtype  \n",
      "---  ------         --------------  -----  \n",
      " 0   Car_Name       301 non-null    object \n",
      " 1   Year           301 non-null    int64  \n",
      " 2   Selling_Price  301 non-null    float64\n",
      " 3   Present_Price  301 non-null    float64\n",
      " 4   Kms_Driven     301 non-null    int64  \n",
      " 5   Fuel_Type      301 non-null    object \n",
      " 6   Seller_Type    301 non-null    object \n",
      " 7   Transmission   301 non-null    object \n",
      " 8   Owner          301 non-null    int64  \n",
      "dtypes: float64(2), int64(3), object(4)\n",
      "memory usage: 21.3+ KB\n"
     ]
    }
   ],
   "source": [
    "Cars.info()"
   ]
  },
  {
   "cell_type": "markdown",
   "metadata": {},
   "source": [
    "#### Comment\n",
    "\n",
    "- We can see that the dataset contains mixture of categorical and numerical variables.\n",
    "\n",
    "- Categorical variables have data type `object`.\n",
    "\n",
    "- Numerical variables have data type `float64`."
   ]
  },
  {
   "cell_type": "code",
   "execution_count": 5,
   "metadata": {},
   "outputs": [
    {
     "data": {
      "text/plain": [
       "(301, 9)"
      ]
     },
     "execution_count": 5,
     "metadata": {},
     "output_type": "execute_result"
    }
   ],
   "source": [
    "# Shape of data\n",
    "Cars.shape"
   ]
  },
  {
   "cell_type": "code",
   "execution_count": 6,
   "metadata": {},
   "outputs": [
    {
     "data": {
      "text/plain": [
       "Car_Name         0\n",
       "Year             0\n",
       "Selling_Price    0\n",
       "Present_Price    0\n",
       "Kms_Driven       0\n",
       "Fuel_Type        0\n",
       "Seller_Type      0\n",
       "Transmission     0\n",
       "Owner            0\n",
       "dtype: int64"
      ]
     },
     "execution_count": 6,
     "metadata": {},
     "output_type": "execute_result"
    }
   ],
   "source": [
    "# Null values of data\n",
    "Cars.isna().sum()"
   ]
  },
  {
   "cell_type": "markdown",
   "metadata": {},
   "source": [
    "We have total 301 rows and 9 columns. Gender columns has two attribute Male & Female. Our Target Column is Selling_Price. There is no missing value in our dataset."
   ]
  },
  {
   "cell_type": "code",
   "execution_count": 7,
   "metadata": {},
   "outputs": [
    {
     "data": {
      "text/html": [
       "<div>\n",
       "<style scoped>\n",
       "    .dataframe tbody tr th:only-of-type {\n",
       "        vertical-align: middle;\n",
       "    }\n",
       "\n",
       "    .dataframe tbody tr th {\n",
       "        vertical-align: top;\n",
       "    }\n",
       "\n",
       "    .dataframe thead th {\n",
       "        text-align: right;\n",
       "    }\n",
       "</style>\n",
       "<table border=\"1\" class=\"dataframe\">\n",
       "  <thead>\n",
       "    <tr style=\"text-align: right;\">\n",
       "      <th></th>\n",
       "      <th>Year</th>\n",
       "      <th>Selling_Price</th>\n",
       "      <th>Present_Price</th>\n",
       "      <th>Kms_Driven</th>\n",
       "      <th>Owner</th>\n",
       "    </tr>\n",
       "  </thead>\n",
       "  <tbody>\n",
       "    <tr>\n",
       "      <th>count</th>\n",
       "      <td>301.000000</td>\n",
       "      <td>301.000000</td>\n",
       "      <td>301.000000</td>\n",
       "      <td>301.000000</td>\n",
       "      <td>301.000000</td>\n",
       "    </tr>\n",
       "    <tr>\n",
       "      <th>mean</th>\n",
       "      <td>2013.627907</td>\n",
       "      <td>4.661296</td>\n",
       "      <td>7.628472</td>\n",
       "      <td>36947.205980</td>\n",
       "      <td>0.043189</td>\n",
       "    </tr>\n",
       "    <tr>\n",
       "      <th>std</th>\n",
       "      <td>2.891554</td>\n",
       "      <td>5.082812</td>\n",
       "      <td>8.644115</td>\n",
       "      <td>38886.883882</td>\n",
       "      <td>0.247915</td>\n",
       "    </tr>\n",
       "    <tr>\n",
       "      <th>min</th>\n",
       "      <td>2003.000000</td>\n",
       "      <td>0.100000</td>\n",
       "      <td>0.320000</td>\n",
       "      <td>500.000000</td>\n",
       "      <td>0.000000</td>\n",
       "    </tr>\n",
       "    <tr>\n",
       "      <th>25%</th>\n",
       "      <td>2012.000000</td>\n",
       "      <td>0.900000</td>\n",
       "      <td>1.200000</td>\n",
       "      <td>15000.000000</td>\n",
       "      <td>0.000000</td>\n",
       "    </tr>\n",
       "    <tr>\n",
       "      <th>50%</th>\n",
       "      <td>2014.000000</td>\n",
       "      <td>3.600000</td>\n",
       "      <td>6.400000</td>\n",
       "      <td>32000.000000</td>\n",
       "      <td>0.000000</td>\n",
       "    </tr>\n",
       "    <tr>\n",
       "      <th>75%</th>\n",
       "      <td>2016.000000</td>\n",
       "      <td>6.000000</td>\n",
       "      <td>9.900000</td>\n",
       "      <td>48767.000000</td>\n",
       "      <td>0.000000</td>\n",
       "    </tr>\n",
       "    <tr>\n",
       "      <th>max</th>\n",
       "      <td>2018.000000</td>\n",
       "      <td>35.000000</td>\n",
       "      <td>92.600000</td>\n",
       "      <td>500000.000000</td>\n",
       "      <td>3.000000</td>\n",
       "    </tr>\n",
       "  </tbody>\n",
       "</table>\n",
       "</div>"
      ],
      "text/plain": [
       "              Year  Selling_Price  Present_Price     Kms_Driven       Owner\n",
       "count   301.000000     301.000000     301.000000     301.000000  301.000000\n",
       "mean   2013.627907       4.661296       7.628472   36947.205980    0.043189\n",
       "std       2.891554       5.082812       8.644115   38886.883882    0.247915\n",
       "min    2003.000000       0.100000       0.320000     500.000000    0.000000\n",
       "25%    2012.000000       0.900000       1.200000   15000.000000    0.000000\n",
       "50%    2014.000000       3.600000       6.400000   32000.000000    0.000000\n",
       "75%    2016.000000       6.000000       9.900000   48767.000000    0.000000\n",
       "max    2018.000000      35.000000      92.600000  500000.000000    3.000000"
      ]
     },
     "execution_count": 7,
     "metadata": {},
     "output_type": "execute_result"
    }
   ],
   "source": [
    "# Statistical Summary\n",
    "Cars.describe()"
   ]
  },
  {
   "cell_type": "markdown",
   "metadata": {},
   "source": [
    "From describe table we get that Year is spread up 35000000, with an average of 2013.62 and Std Dev of 2.89 & Estimated Salary between 15000 to 150,000, with an average of 69,742.5 and Std Dev of 34,096.96."
   ]
  },
  {
   "cell_type": "markdown",
   "metadata": {},
   "source": [
    "# Data visualization"
   ]
  },
  {
   "cell_type": "code",
   "execution_count": 8,
   "metadata": {},
   "outputs": [
    {
     "data": {
      "image/png": "[encoded data removed]",
      "text/plain": [
       "<Figure size 432x576 with 1 Axes>"
      ]
     },
     "metadata": {
      "needs_background": "light"
     },
     "output_type": "display_data"
    }
   ],
   "source": [
    "f, ax = plt.subplots(figsize=(6, 8))\n",
    "ax = sns.countplot(x=\"Fuel_Type\", data=Cars, palette=\"bright\")\n",
    "plt.show()"
   ]
  },
  {
   "cell_type": "code",
   "execution_count": 9,
   "metadata": {},
   "outputs": [
    {
     "data": {
      "text/plain": [
       "Petrol    239\n",
       "Diesel     60\n",
       "CNG         2\n",
       "Name: Fuel_Type, dtype: int64"
      ]
     },
     "execution_count": 9,
     "metadata": {},
     "output_type": "execute_result"
    }
   ],
   "source": [
    "Cars['Fuel_Type'].value_counts()"
   ]
  },
  {
   "cell_type": "code",
   "execution_count": 10,
   "metadata": {},
   "outputs": [],
   "source": [
    "#The number of Petrol use is lot more than the number of others. "
   ]
  },
  {
   "cell_type": "code",
   "execution_count": 11,
   "metadata": {},
   "outputs": [
    {
     "data": {
      "image/png": "[encoded data removed]",
      "text/plain": [
       "<Figure size 1296x576 with 2 Axes>"
      ]
     },
     "metadata": {
      "needs_background": "light"
     },
     "output_type": "display_data"
    }
   ],
   "source": [
    "f,ax=plt.subplots(1,2,figsize=(18,8))\n",
    "Cars['Seller_Type'].value_counts().plot.pie(explode=[0,0.1],autopct='%1.1f%%',ax=ax[0],shadow=True)\n",
    "ax[0].set_title('Seller_Type')\n",
    "ax[0].set_ylabel('')\n",
    "sns.countplot('Transmission',data=Cars,ax=ax[1])\n",
    "ax[1].set_title('Transmission')\n",
    "plt.show()"
   ]
  },
  {
   "cell_type": "markdown",
   "metadata": {},
   "source": [
    "It is clear that Dealer of Seller type used than Individual. \n",
    "\n",
    "Look transmission features, mostly used manual cars than automatic."
   ]
  },
  {
   "cell_type": "code",
   "execution_count": 12,
   "metadata": {},
   "outputs": [
    {
     "data": {
      "image/png": "[encoded data removed]",
      "text/plain": [
       "<Figure size 720x360 with 1 Axes>"
      ]
     },
     "metadata": {
      "needs_background": "light"
     },
     "output_type": "display_data"
    }
   ],
   "source": [
    "Cars.Car_Name.value_counts().nlargest(40).plot(kind='bar', figsize=(10,5))\n",
    "plt.title(\"Number of cars\")\n",
    "plt.ylabel('Number of cars')\n",
    "plt.xlabel('Cars');"
   ]
  },
  {
   "cell_type": "markdown",
   "metadata": {},
   "source": [
    "Most of the car names are city, corolla altis, verna and fotruner."
   ]
  },
  {
   "cell_type": "code",
   "execution_count": null,
   "metadata": {},
   "outputs": [],
   "source": []
  },
  {
   "cell_type": "code",
   "execution_count": 13,
   "metadata": {},
   "outputs": [
    {
     "name": "stdout",
     "output_type": "stream",
     "text": [
      "The feature Owner is NUMERIC\n",
      "\n",
      "\u001b[32m-Missing values in training set: 0\u001b[0m\n",
      "\u001b[33m-Outliers 1.5*IQR: 11\u001b[0m\n",
      "\u001b[31m-Outliers   3*IQR: 11\u001b[0m\n"
     ]
    },
    {
     "data": {
      "image/png": "[encoded data removed]",
      "text/plain": [
       "<Figure size 1440x360 with 3 Axes>"
      ]
     },
     "metadata": {
      "needs_background": "light"
     },
     "output_type": "display_data"
    }
   ],
   "source": [
    "eda.feature_analysis(Cars,'Owner')"
   ]
  },
  {
   "cell_type": "code",
   "execution_count": 14,
   "metadata": {},
   "outputs": [
    {
     "data": {
      "image/png": "[encoded data removed]",
      "text/plain": [
       "<Figure size 906.375x288 with 1 Axes>"
      ]
     },
     "metadata": {
      "needs_background": "light"
     },
     "output_type": "display_data"
    }
   ],
   "source": [
    "ax = sns.catplot(x=\"Year\", y=\"Owner\", hue=\"Owner\", kind=\"bar\", data=Cars, height=4, aspect=3,)\n"
   ]
  },
  {
   "cell_type": "markdown",
   "metadata": {},
   "source": [
    "Mostly categorical data 3 in 2006 was selled. in other years type 1 was selled. "
   ]
  },
  {
   "cell_type": "markdown",
   "metadata": {},
   "source": [
    "### Encoding"
   ]
  },
  {
   "cell_type": "code",
   "execution_count": 15,
   "metadata": {},
   "outputs": [
    {
     "data": {
      "text/plain": [
       "Car_Name          object\n",
       "Year               int64\n",
       "Selling_Price    float64\n",
       "Present_Price    float64\n",
       "Kms_Driven         int64\n",
       "Fuel_Type         object\n",
       "Seller_Type       object\n",
       "Transmission      object\n",
       "Owner              int64\n",
       "dtype: object"
      ]
     },
     "execution_count": 15,
     "metadata": {},
     "output_type": "execute_result"
    }
   ],
   "source": [
    "# Type of data\n",
    "Cars.dtypes"
   ]
  },
  {
   "cell_type": "code",
   "execution_count": 16,
   "metadata": {},
   "outputs": [],
   "source": [
    "\n",
    "\n",
    "lab = LabelEncoder()"
   ]
  },
  {
   "cell_type": "code",
   "execution_count": 17,
   "metadata": {},
   "outputs": [],
   "source": [
    "# # Encoding object Data\n",
    "\n",
    "def convert_dtype(df):\n",
    "    \"\"\" iterate through all the columns of a dataframe and change the data type\n",
    "        of object.        \n",
    "    \"\"\"     \n",
    "    objects = []\n",
    "    for i in df.columns:\n",
    "        if(df[i].dtype == np.object):\n",
    "            objects.append(i)\n",
    "            df[i] = lab.fit_transform(df[i])\n",
    "            \n",
    "a = convert_dtype(Cars)"
   ]
  },
  {
   "cell_type": "code",
   "execution_count": 18,
   "metadata": {},
   "outputs": [
    {
     "data": {
      "text/html": [
       "<div>\n",
       "<style scoped>\n",
       "    .dataframe tbody tr th:only-of-type {\n",
       "        vertical-align: middle;\n",
       "    }\n",
       "\n",
       "    .dataframe tbody tr th {\n",
       "        vertical-align: top;\n",
       "    }\n",
       "\n",
       "    .dataframe thead th {\n",
       "        text-align: right;\n",
       "    }\n",
       "</style>\n",
       "<table border=\"1\" class=\"dataframe\">\n",
       "  <thead>\n",
       "    <tr style=\"text-align: right;\">\n",
       "      <th></th>\n",
       "      <th>Car_Name</th>\n",
       "      <th>Year</th>\n",
       "      <th>Selling_Price</th>\n",
       "      <th>Present_Price</th>\n",
       "      <th>Kms_Driven</th>\n",
       "      <th>Fuel_Type</th>\n",
       "      <th>Seller_Type</th>\n",
       "      <th>Transmission</th>\n",
       "      <th>Owner</th>\n",
       "    </tr>\n",
       "  </thead>\n",
       "  <tbody>\n",
       "    <tr>\n",
       "      <th>0</th>\n",
       "      <td>90</td>\n",
       "      <td>2014</td>\n",
       "      <td>3.35</td>\n",
       "      <td>5.59</td>\n",
       "      <td>27000</td>\n",
       "      <td>2</td>\n",
       "      <td>0</td>\n",
       "      <td>1</td>\n",
       "      <td>0</td>\n",
       "    </tr>\n",
       "    <tr>\n",
       "      <th>1</th>\n",
       "      <td>93</td>\n",
       "      <td>2013</td>\n",
       "      <td>4.75</td>\n",
       "      <td>9.54</td>\n",
       "      <td>43000</td>\n",
       "      <td>1</td>\n",
       "      <td>0</td>\n",
       "      <td>1</td>\n",
       "      <td>0</td>\n",
       "    </tr>\n",
       "    <tr>\n",
       "      <th>2</th>\n",
       "      <td>68</td>\n",
       "      <td>2017</td>\n",
       "      <td>7.25</td>\n",
       "      <td>9.85</td>\n",
       "      <td>6900</td>\n",
       "      <td>2</td>\n",
       "      <td>0</td>\n",
       "      <td>1</td>\n",
       "      <td>0</td>\n",
       "    </tr>\n",
       "    <tr>\n",
       "      <th>3</th>\n",
       "      <td>96</td>\n",
       "      <td>2011</td>\n",
       "      <td>2.85</td>\n",
       "      <td>4.15</td>\n",
       "      <td>5200</td>\n",
       "      <td>2</td>\n",
       "      <td>0</td>\n",
       "      <td>1</td>\n",
       "      <td>0</td>\n",
       "    </tr>\n",
       "    <tr>\n",
       "      <th>4</th>\n",
       "      <td>92</td>\n",
       "      <td>2014</td>\n",
       "      <td>4.60</td>\n",
       "      <td>6.87</td>\n",
       "      <td>42450</td>\n",
       "      <td>1</td>\n",
       "      <td>0</td>\n",
       "      <td>1</td>\n",
       "      <td>0</td>\n",
       "    </tr>\n",
       "    <tr>\n",
       "      <th>...</th>\n",
       "      <td>...</td>\n",
       "      <td>...</td>\n",
       "      <td>...</td>\n",
       "      <td>...</td>\n",
       "      <td>...</td>\n",
       "      <td>...</td>\n",
       "      <td>...</td>\n",
       "      <td>...</td>\n",
       "      <td>...</td>\n",
       "    </tr>\n",
       "    <tr>\n",
       "      <th>296</th>\n",
       "      <td>69</td>\n",
       "      <td>2016</td>\n",
       "      <td>9.50</td>\n",
       "      <td>11.60</td>\n",
       "      <td>33988</td>\n",
       "      <td>1</td>\n",
       "      <td>0</td>\n",
       "      <td>1</td>\n",
       "      <td>0</td>\n",
       "    </tr>\n",
       "    <tr>\n",
       "      <th>297</th>\n",
       "      <td>66</td>\n",
       "      <td>2015</td>\n",
       "      <td>4.00</td>\n",
       "      <td>5.90</td>\n",
       "      <td>60000</td>\n",
       "      <td>2</td>\n",
       "      <td>0</td>\n",
       "      <td>1</td>\n",
       "      <td>0</td>\n",
       "    </tr>\n",
       "    <tr>\n",
       "      <th>298</th>\n",
       "      <td>69</td>\n",
       "      <td>2009</td>\n",
       "      <td>3.35</td>\n",
       "      <td>11.00</td>\n",
       "      <td>87934</td>\n",
       "      <td>2</td>\n",
       "      <td>0</td>\n",
       "      <td>1</td>\n",
       "      <td>0</td>\n",
       "    </tr>\n",
       "    <tr>\n",
       "      <th>299</th>\n",
       "      <td>69</td>\n",
       "      <td>2017</td>\n",
       "      <td>11.50</td>\n",
       "      <td>12.50</td>\n",
       "      <td>9000</td>\n",
       "      <td>1</td>\n",
       "      <td>0</td>\n",
       "      <td>1</td>\n",
       "      <td>0</td>\n",
       "    </tr>\n",
       "    <tr>\n",
       "      <th>300</th>\n",
       "      <td>66</td>\n",
       "      <td>2016</td>\n",
       "      <td>5.30</td>\n",
       "      <td>5.90</td>\n",
       "      <td>5464</td>\n",
       "      <td>2</td>\n",
       "      <td>0</td>\n",
       "      <td>1</td>\n",
       "      <td>0</td>\n",
       "    </tr>\n",
       "  </tbody>\n",
       "</table>\n",
       "<p>301 rows × 9 columns</p>\n",
       "</div>"
      ],
      "text/plain": [
       "     Car_Name  Year  Selling_Price  Present_Price  Kms_Driven  Fuel_Type  \\\n",
       "0          90  2014           3.35           5.59       27000          2   \n",
       "1          93  2013           4.75           9.54       43000          1   \n",
       "2          68  2017           7.25           9.85        6900          2   \n",
       "3          96  2011           2.85           4.15        5200          2   \n",
       "4          92  2014           4.60           6.87       42450          1   \n",
       "..        ...   ...            ...            ...         ...        ...   \n",
       "296        69  2016           9.50          11.60       33988          1   \n",
       "297        66  2015           4.00           5.90       60000          2   \n",
       "298        69  2009           3.35          11.00       87934          2   \n",
       "299        69  2017          11.50          12.50        9000          1   \n",
       "300        66  2016           5.30           5.90        5464          2   \n",
       "\n",
       "     Seller_Type  Transmission  Owner  \n",
       "0              0             1      0  \n",
       "1              0             1      0  \n",
       "2              0             1      0  \n",
       "3              0             1      0  \n",
       "4              0             1      0  \n",
       "..           ...           ...    ...  \n",
       "296            0             1      0  \n",
       "297            0             1      0  \n",
       "298            0             1      0  \n",
       "299            0             1      0  \n",
       "300            0             1      0  \n",
       "\n",
       "[301 rows x 9 columns]"
      ]
     },
     "execution_count": 18,
     "metadata": {},
     "output_type": "execute_result"
    }
   ],
   "source": [
    "Cars"
   ]
  },
  {
   "cell_type": "code",
   "execution_count": 19,
   "metadata": {},
   "outputs": [
    {
     "data": {
      "text/plain": [
       "Car_Name           int32\n",
       "Year               int64\n",
       "Selling_Price    float64\n",
       "Present_Price    float64\n",
       "Kms_Driven         int64\n",
       "Fuel_Type          int32\n",
       "Seller_Type        int32\n",
       "Transmission       int32\n",
       "Owner              int64\n",
       "dtype: object"
      ]
     },
     "execution_count": 19,
     "metadata": {},
     "output_type": "execute_result"
    }
   ],
   "source": [
    "# Check Type of data after encoding\n",
    "\n",
    "Cars.dtypes"
   ]
  },
  {
   "cell_type": "markdown",
   "metadata": {},
   "source": [
    "#### Correlation"
   ]
  },
  {
   "cell_type": "code",
   "execution_count": 20,
   "metadata": {
    "scrolled": true
   },
   "outputs": [
    {
     "data": {
      "text/html": [
       "<style type=\"text/css\">\n",
       "#T_7e737_row0_col0, #T_7e737_row1_col1, #T_7e737_row2_col2, #T_7e737_row3_col3, #T_7e737_row4_col4, #T_7e737_row5_col5, #T_7e737_row6_col6, #T_7e737_row7_col7, #T_7e737_row8_col8 {\n",
       "  background-color: #662506;\n",
       "  color: #f1f1f1;\n",
       "}\n",
       "#T_7e737_row0_col1 {\n",
       "  background-color: #fffee0;\n",
       "  color: #000000;\n",
       "}\n",
       "#T_7e737_row0_col2, #T_7e737_row2_col5 {\n",
       "  background-color: #fe9f2e;\n",
       "  color: #000000;\n",
       "}\n",
       "#T_7e737_row0_col3 {\n",
       "  background-color: #fea332;\n",
       "  color: #000000;\n",
       "}\n",
       "#T_7e737_row0_col4 {\n",
       "  background-color: #fffdd9;\n",
       "  color: #000000;\n",
       "}\n",
       "#T_7e737_row0_col5 {\n",
       "  background-color: #fece65;\n",
       "  color: #000000;\n",
       "}\n",
       "#T_7e737_row0_col6 {\n",
       "  background-color: #ae3e03;\n",
       "  color: #f1f1f1;\n",
       "}\n",
       "#T_7e737_row0_col7, #T_7e737_row8_col2, #T_7e737_row8_col4 {\n",
       "  background-color: #fffbd2;\n",
       "  color: #000000;\n",
       "}\n",
       "#T_7e737_row0_col8 {\n",
       "  background-color: #ffface;\n",
       "  color: #000000;\n",
       "}\n",
       "#T_7e737_row1_col0, #T_7e737_row1_col5, #T_7e737_row1_col6, #T_7e737_row1_col7, #T_7e737_row2_col4, #T_7e737_row3_col8, #T_7e737_row4_col2, #T_7e737_row7_col1, #T_7e737_row8_col3, #T_7e737_row8_col5 {\n",
       "  background-color: #ffffe5;\n",
       "  color: #000000;\n",
       "}\n",
       "#T_7e737_row1_col2 {\n",
       "  background-color: #fee99e;\n",
       "  color: #000000;\n",
       "}\n",
       "#T_7e737_row1_col3, #T_7e737_row6_col1, #T_7e737_row7_col8 {\n",
       "  background-color: #fffcd8;\n",
       "  color: #000000;\n",
       "}\n",
       "#T_7e737_row1_col4, #T_7e737_row6_col3 {\n",
       "  background-color: #fd9627;\n",
       "  color: #000000;\n",
       "}\n",
       "#T_7e737_row1_col8 {\n",
       "  background-color: #ffefac;\n",
       "  color: #000000;\n",
       "}\n",
       "#T_7e737_row2_col0, #T_7e737_row3_col6 {\n",
       "  background-color: #fe9c2c;\n",
       "  color: #000000;\n",
       "}\n",
       "#T_7e737_row2_col1 {\n",
       "  background-color: #fee596;\n",
       "  color: #000000;\n",
       "}\n",
       "#T_7e737_row2_col3, #T_7e737_row3_col2 {\n",
       "  background-color: #983404;\n",
       "  color: #f1f1f1;\n",
       "}\n",
       "#T_7e737_row2_col6 {\n",
       "  background-color: #f98e23;\n",
       "  color: #f1f1f1;\n",
       "}\n",
       "#T_7e737_row2_col7 {\n",
       "  background-color: #fec754;\n",
       "  color: #000000;\n",
       "}\n",
       "#T_7e737_row2_col8, #T_7e737_row4_col8, #T_7e737_row5_col7 {\n",
       "  background-color: #fffacb;\n",
       "  color: #000000;\n",
       "}\n",
       "#T_7e737_row3_col0 {\n",
       "  background-color: #fea433;\n",
       "  color: #000000;\n",
       "}\n",
       "#T_7e737_row3_col1, #T_7e737_row4_col0, #T_7e737_row5_col8, #T_7e737_row8_col7 {\n",
       "  background-color: #fffcd6;\n",
       "  color: #000000;\n",
       "}\n",
       "#T_7e737_row3_col4, #T_7e737_row8_col1 {\n",
       "  background-color: #ffeea9;\n",
       "  color: #000000;\n",
       "}\n",
       "#T_7e737_row3_col5 {\n",
       "  background-color: #feb945;\n",
       "  color: #000000;\n",
       "}\n",
       "#T_7e737_row3_col7, #T_7e737_row7_col2 {\n",
       "  background-color: #feca5d;\n",
       "  color: #000000;\n",
       "}\n",
       "#T_7e737_row4_col1 {\n",
       "  background-color: #fa9125;\n",
       "  color: #f1f1f1;\n",
       "}\n",
       "#T_7e737_row4_col3 {\n",
       "  background-color: #feeca4;\n",
       "  color: #000000;\n",
       "}\n",
       "#T_7e737_row4_col5 {\n",
       "  background-color: #fff7be;\n",
       "  color: #000000;\n",
       "}\n",
       "#T_7e737_row4_col6, #T_7e737_row6_col7, #T_7e737_row8_col0 {\n",
       "  background-color: #fffbd0;\n",
       "  color: #000000;\n",
       "}\n",
       "#T_7e737_row4_col7 {\n",
       "  background-color: #fff1b0;\n",
       "  color: #000000;\n",
       "}\n",
       "#T_7e737_row5_col0 {\n",
       "  background-color: #fec857;\n",
       "  color: #000000;\n",
       "}\n",
       "#T_7e737_row5_col1 {\n",
       "  background-color: #fffcd4;\n",
       "  color: #000000;\n",
       "}\n",
       "#T_7e737_row5_col2 {\n",
       "  background-color: #fe9b2b;\n",
       "  color: #000000;\n",
       "}\n",
       "#T_7e737_row5_col3 {\n",
       "  background-color: #feaf3d;\n",
       "  color: #000000;\n",
       "}\n",
       "#T_7e737_row5_col4 {\n",
       "  background-color: #fff4b6;\n",
       "  color: #000000;\n",
       "}\n",
       "#T_7e737_row5_col6 {\n",
       "  background-color: #fed069;\n",
       "  color: #000000;\n",
       "}\n",
       "#T_7e737_row6_col0 {\n",
       "  background-color: #ac3d03;\n",
       "  color: #f1f1f1;\n",
       "}\n",
       "#T_7e737_row6_col2 {\n",
       "  background-color: #f98d23;\n",
       "  color: #f1f1f1;\n",
       "}\n",
       "#T_7e737_row6_col4 {\n",
       "  background-color: #fffacd;\n",
       "  color: #000000;\n",
       "}\n",
       "#T_7e737_row6_col5 {\n",
       "  background-color: #fed36f;\n",
       "  color: #000000;\n",
       "}\n",
       "#T_7e737_row6_col8 {\n",
       "  background-color: #fff8c0;\n",
       "  color: #000000;\n",
       "}\n",
       "#T_7e737_row7_col0 {\n",
       "  background-color: #fffcd7;\n",
       "  color: #000000;\n",
       "}\n",
       "#T_7e737_row7_col3 {\n",
       "  background-color: #fecc61;\n",
       "  color: #000000;\n",
       "}\n",
       "#T_7e737_row7_col4 {\n",
       "  background-color: #fff5b8;\n",
       "  color: #000000;\n",
       "}\n",
       "#T_7e737_row7_col5 {\n",
       "  background-color: #fffddc;\n",
       "  color: #000000;\n",
       "}\n",
       "#T_7e737_row7_col6 {\n",
       "  background-color: #fffddd;\n",
       "  color: #000000;\n",
       "}\n",
       "#T_7e737_row8_col6 {\n",
       "  background-color: #fff9c9;\n",
       "  color: #000000;\n",
       "}\n",
       "</style>\n",
       "<table id=\"T_7e737\">\n",
       "  <thead>\n",
       "    <tr>\n",
       "      <th class=\"blank level0\" >&nbsp;</th>\n",
       "      <th id=\"T_7e737_level0_col0\" class=\"col_heading level0 col0\" >Car_Name</th>\n",
       "      <th id=\"T_7e737_level0_col1\" class=\"col_heading level0 col1\" >Year</th>\n",
       "      <th id=\"T_7e737_level0_col2\" class=\"col_heading level0 col2\" >Selling_Price</th>\n",
       "      <th id=\"T_7e737_level0_col3\" class=\"col_heading level0 col3\" >Present_Price</th>\n",
       "      <th id=\"T_7e737_level0_col4\" class=\"col_heading level0 col4\" >Kms_Driven</th>\n",
       "      <th id=\"T_7e737_level0_col5\" class=\"col_heading level0 col5\" >Fuel_Type</th>\n",
       "      <th id=\"T_7e737_level0_col6\" class=\"col_heading level0 col6\" >Seller_Type</th>\n",
       "      <th id=\"T_7e737_level0_col7\" class=\"col_heading level0 col7\" >Transmission</th>\n",
       "      <th id=\"T_7e737_level0_col8\" class=\"col_heading level0 col8\" >Owner</th>\n",
       "    </tr>\n",
       "  </thead>\n",
       "  <tbody>\n",
       "    <tr>\n",
       "      <th id=\"T_7e737_level0_row0\" class=\"row_heading level0 row0\" >Car_Name</th>\n",
       "      <td id=\"T_7e737_row0_col0\" class=\"data row0 col0\" >1.00</td>\n",
       "      <td id=\"T_7e737_row0_col1\" class=\"data row0 col1\" >0.02</td>\n",
       "      <td id=\"T_7e737_row0_col2\" class=\"data row0 col2\" >0.50</td>\n",
       "      <td id=\"T_7e737_row0_col3\" class=\"data row0 col3\" >0.48</td>\n",
       "      <td id=\"T_7e737_row0_col4\" class=\"data row0 col4\" >0.06</td>\n",
       "      <td id=\"T_7e737_row0_col5\" class=\"data row0 col5\" >0.37</td>\n",
       "      <td id=\"T_7e737_row0_col6\" class=\"data row0 col6\" >0.83</td>\n",
       "      <td id=\"T_7e737_row0_col7\" class=\"data row0 col7\" >0.06</td>\n",
       "      <td id=\"T_7e737_row0_col8\" class=\"data row0 col8\" >0.08</td>\n",
       "    </tr>\n",
       "    <tr>\n",
       "      <th id=\"T_7e737_level0_row1\" class=\"row_heading level0 row1\" >Year</th>\n",
       "      <td id=\"T_7e737_row1_col0\" class=\"data row1 col0\" >0.02</td>\n",
       "      <td id=\"T_7e737_row1_col1\" class=\"data row1 col1\" >1.00</td>\n",
       "      <td id=\"T_7e737_row1_col2\" class=\"data row1 col2\" >0.24</td>\n",
       "      <td id=\"T_7e737_row1_col3\" class=\"data row1 col3\" >0.05</td>\n",
       "      <td id=\"T_7e737_row1_col4\" class=\"data row1 col4\" >0.52</td>\n",
       "      <td id=\"T_7e737_row1_col5\" class=\"data row1 col5\" >0.05</td>\n",
       "      <td id=\"T_7e737_row1_col6\" class=\"data row1 col6\" >0.04</td>\n",
       "      <td id=\"T_7e737_row1_col7\" class=\"data row1 col7\" >0.00</td>\n",
       "      <td id=\"T_7e737_row1_col8\" class=\"data row1 col8\" >0.18</td>\n",
       "    </tr>\n",
       "    <tr>\n",
       "      <th id=\"T_7e737_level0_row2\" class=\"row_heading level0 row2\" >Selling_Price</th>\n",
       "      <td id=\"T_7e737_row2_col0\" class=\"data row2 col0\" >0.50</td>\n",
       "      <td id=\"T_7e737_row2_col1\" class=\"data row2 col1\" >0.24</td>\n",
       "      <td id=\"T_7e737_row2_col2\" class=\"data row2 col2\" >1.00</td>\n",
       "      <td id=\"T_7e737_row2_col3\" class=\"data row2 col3\" >0.88</td>\n",
       "      <td id=\"T_7e737_row2_col4\" class=\"data row2 col4\" >0.03</td>\n",
       "      <td id=\"T_7e737_row2_col5\" class=\"data row2 col5\" >0.51</td>\n",
       "      <td id=\"T_7e737_row2_col6\" class=\"data row2 col6\" >0.55</td>\n",
       "      <td id=\"T_7e737_row2_col7\" class=\"data row2 col7\" >0.37</td>\n",
       "      <td id=\"T_7e737_row2_col8\" class=\"data row2 col8\" >0.09</td>\n",
       "    </tr>\n",
       "    <tr>\n",
       "      <th id=\"T_7e737_level0_row3\" class=\"row_heading level0 row3\" >Present_Price</th>\n",
       "      <td id=\"T_7e737_row3_col0\" class=\"data row3 col0\" >0.48</td>\n",
       "      <td id=\"T_7e737_row3_col1\" class=\"data row3 col1\" >0.05</td>\n",
       "      <td id=\"T_7e737_row3_col2\" class=\"data row3 col2\" >0.88</td>\n",
       "      <td id=\"T_7e737_row3_col3\" class=\"data row3 col3\" >1.00</td>\n",
       "      <td id=\"T_7e737_row3_col4\" class=\"data row3 col4\" >0.20</td>\n",
       "      <td id=\"T_7e737_row3_col5\" class=\"data row3 col5\" >0.44</td>\n",
       "      <td id=\"T_7e737_row3_col6\" class=\"data row3 col6\" >0.51</td>\n",
       "      <td id=\"T_7e737_row3_col7\" class=\"data row3 col7\" >0.35</td>\n",
       "      <td id=\"T_7e737_row3_col8\" class=\"data row3 col8\" >0.01</td>\n",
       "    </tr>\n",
       "    <tr>\n",
       "      <th id=\"T_7e737_level0_row4\" class=\"row_heading level0 row4\" >Kms_Driven</th>\n",
       "      <td id=\"T_7e737_row4_col0\" class=\"data row4 col0\" >0.06</td>\n",
       "      <td id=\"T_7e737_row4_col1\" class=\"data row4 col1\" >0.52</td>\n",
       "      <td id=\"T_7e737_row4_col2\" class=\"data row4 col2\" >0.03</td>\n",
       "      <td id=\"T_7e737_row4_col3\" class=\"data row4 col3\" >0.20</td>\n",
       "      <td id=\"T_7e737_row4_col4\" class=\"data row4 col4\" >1.00</td>\n",
       "      <td id=\"T_7e737_row4_col5\" class=\"data row4 col5\" >0.17</td>\n",
       "      <td id=\"T_7e737_row4_col6\" class=\"data row4 col6\" >0.10</td>\n",
       "      <td id=\"T_7e737_row4_col7\" class=\"data row4 col7\" >0.16</td>\n",
       "      <td id=\"T_7e737_row4_col8\" class=\"data row4 col8\" >0.09</td>\n",
       "    </tr>\n",
       "    <tr>\n",
       "      <th id=\"T_7e737_level0_row5\" class=\"row_heading level0 row5\" >Fuel_Type</th>\n",
       "      <td id=\"T_7e737_row5_col0\" class=\"data row5 col0\" >0.37</td>\n",
       "      <td id=\"T_7e737_row5_col1\" class=\"data row5 col1\" >0.05</td>\n",
       "      <td id=\"T_7e737_row5_col2\" class=\"data row5 col2\" >0.51</td>\n",
       "      <td id=\"T_7e737_row5_col3\" class=\"data row5 col3\" >0.44</td>\n",
       "      <td id=\"T_7e737_row5_col4\" class=\"data row5 col4\" >0.17</td>\n",
       "      <td id=\"T_7e737_row5_col5\" class=\"data row5 col5\" >1.00</td>\n",
       "      <td id=\"T_7e737_row5_col6\" class=\"data row5 col6\" >0.35</td>\n",
       "      <td id=\"T_7e737_row5_col7\" class=\"data row5 col7\" >0.08</td>\n",
       "      <td id=\"T_7e737_row5_col8\" class=\"data row5 col8\" >0.06</td>\n",
       "    </tr>\n",
       "    <tr>\n",
       "      <th id=\"T_7e737_level0_row6\" class=\"row_heading level0 row6\" >Seller_Type</th>\n",
       "      <td id=\"T_7e737_row6_col0\" class=\"data row6 col0\" >0.83</td>\n",
       "      <td id=\"T_7e737_row6_col1\" class=\"data row6 col1\" >0.04</td>\n",
       "      <td id=\"T_7e737_row6_col2\" class=\"data row6 col2\" >0.55</td>\n",
       "      <td id=\"T_7e737_row6_col3\" class=\"data row6 col3\" >0.51</td>\n",
       "      <td id=\"T_7e737_row6_col4\" class=\"data row6 col4\" >0.10</td>\n",
       "      <td id=\"T_7e737_row6_col5\" class=\"data row6 col5\" >0.35</td>\n",
       "      <td id=\"T_7e737_row6_col6\" class=\"data row6 col6\" >1.00</td>\n",
       "      <td id=\"T_7e737_row6_col7\" class=\"data row6 col7\" >0.06</td>\n",
       "      <td id=\"T_7e737_row6_col8\" class=\"data row6 col8\" >0.12</td>\n",
       "    </tr>\n",
       "    <tr>\n",
       "      <th id=\"T_7e737_level0_row7\" class=\"row_heading level0 row7\" >Transmission</th>\n",
       "      <td id=\"T_7e737_row7_col0\" class=\"data row7 col0\" >0.06</td>\n",
       "      <td id=\"T_7e737_row7_col1\" class=\"data row7 col1\" >0.00</td>\n",
       "      <td id=\"T_7e737_row7_col2\" class=\"data row7 col2\" >0.37</td>\n",
       "      <td id=\"T_7e737_row7_col3\" class=\"data row7 col3\" >0.35</td>\n",
       "      <td id=\"T_7e737_row7_col4\" class=\"data row7 col4\" >0.16</td>\n",
       "      <td id=\"T_7e737_row7_col5\" class=\"data row7 col5\" >0.08</td>\n",
       "      <td id=\"T_7e737_row7_col6\" class=\"data row7 col6\" >0.06</td>\n",
       "      <td id=\"T_7e737_row7_col7\" class=\"data row7 col7\" >1.00</td>\n",
       "      <td id=\"T_7e737_row7_col8\" class=\"data row7 col8\" >0.05</td>\n",
       "    </tr>\n",
       "    <tr>\n",
       "      <th id=\"T_7e737_level0_row8\" class=\"row_heading level0 row8\" >Owner</th>\n",
       "      <td id=\"T_7e737_row8_col0\" class=\"data row8 col0\" >0.08</td>\n",
       "      <td id=\"T_7e737_row8_col1\" class=\"data row8 col1\" >0.18</td>\n",
       "      <td id=\"T_7e737_row8_col2\" class=\"data row8 col2\" >0.09</td>\n",
       "      <td id=\"T_7e737_row8_col3\" class=\"data row8 col3\" >0.01</td>\n",
       "      <td id=\"T_7e737_row8_col4\" class=\"data row8 col4\" >0.09</td>\n",
       "      <td id=\"T_7e737_row8_col5\" class=\"data row8 col5\" >0.06</td>\n",
       "      <td id=\"T_7e737_row8_col6\" class=\"data row8 col6\" >0.12</td>\n",
       "      <td id=\"T_7e737_row8_col7\" class=\"data row8 col7\" >0.05</td>\n",
       "      <td id=\"T_7e737_row8_col8\" class=\"data row8 col8\" >1.00</td>\n",
       "    </tr>\n",
       "  </tbody>\n",
       "</table>\n"
      ],
      "text/plain": [
       "<pandas.io.formats.style.Styler at 0x33258f40>"
      ]
     },
     "execution_count": 20,
     "metadata": {},
     "output_type": "execute_result"
    }
   ],
   "source": [
    "# Correlation between features \n",
    "Corr  = Cars.corr(method='pearson').abs()\n",
    "Corr.style.background_gradient(cmap='YlOrBr').set_precision(2)"
   ]
  },
  {
   "cell_type": "code",
   "execution_count": 21,
   "metadata": {},
   "outputs": [
    {
     "name": "stdout",
     "output_type": "stream",
     "text": [
      "Removed columns are 1 \n",
      "More than 0.85 is:  ['Present_Price'] \n",
      " less than -0.5 is:  []\n"
     ]
    },
    {
     "data": {
      "text/html": [
       "<style type=\"text/css\">\n",
       "#T_50183_row0_col0, #T_50183_row1_col1, #T_50183_row2_col2, #T_50183_row3_col3, #T_50183_row4_col4, #T_50183_row5_col5, #T_50183_row6_col6, #T_50183_row7_col7 {\n",
       "  background-color: #662506;\n",
       "  color: #f1f1f1;\n",
       "}\n",
       "#T_50183_row0_col1 {\n",
       "  background-color: #fec95b;\n",
       "  color: #000000;\n",
       "}\n",
       "#T_50183_row0_col2 {\n",
       "  background-color: #de610c;\n",
       "  color: #f1f1f1;\n",
       "}\n",
       "#T_50183_row0_col3 {\n",
       "  background-color: #fec14c;\n",
       "  color: #000000;\n",
       "}\n",
       "#T_50183_row0_col4 {\n",
       "  background-color: #fff9c7;\n",
       "  color: #000000;\n",
       "}\n",
       "#T_50183_row0_col5, #T_50183_row1_col3, #T_50183_row1_col7, #T_50183_row2_col4, #T_50183_row2_col6, #T_50183_row3_col1, #T_50183_row5_col0, #T_50183_row5_col2 {\n",
       "  background-color: #ffffe5;\n",
       "  color: #000000;\n",
       "}\n",
       "#T_50183_row0_col6, #T_50183_row7_col1 {\n",
       "  background-color: #fee79a;\n",
       "  color: #000000;\n",
       "}\n",
       "#T_50183_row0_col7 {\n",
       "  background-color: #fffaca;\n",
       "  color: #000000;\n",
       "}\n",
       "#T_50183_row1_col0 {\n",
       "  background-color: #fea634;\n",
       "  color: #000000;\n",
       "}\n",
       "#T_50183_row1_col2 {\n",
       "  background-color: #fd9728;\n",
       "  color: #000000;\n",
       "}\n",
       "#T_50183_row1_col4 {\n",
       "  background-color: #fed676;\n",
       "  color: #000000;\n",
       "}\n",
       "#T_50183_row1_col5 {\n",
       "  background-color: #feb13e;\n",
       "  color: #000000;\n",
       "}\n",
       "#T_50183_row1_col6 {\n",
       "  background-color: #fedf88;\n",
       "  color: #000000;\n",
       "}\n",
       "#T_50183_row2_col0 {\n",
       "  background-color: #d25306;\n",
       "  color: #f1f1f1;\n",
       "}\n",
       "#T_50183_row2_col1 {\n",
       "  background-color: #fe9a2a;\n",
       "  color: #000000;\n",
       "}\n",
       "#T_50183_row2_col3 {\n",
       "  background-color: #fec857;\n",
       "  color: #000000;\n",
       "}\n",
       "#T_50183_row2_col5 {\n",
       "  background-color: #fff3b2;\n",
       "  color: #000000;\n",
       "}\n",
       "#T_50183_row2_col7 {\n",
       "  background-color: #fffacb;\n",
       "  color: #000000;\n",
       "}\n",
       "#T_50183_row3_col0 {\n",
       "  background-color: #fe9c2c;\n",
       "  color: #000000;\n",
       "}\n",
       "#T_50183_row3_col2, #T_50183_row7_col4 {\n",
       "  background-color: #fec550;\n",
       "  color: #000000;\n",
       "}\n",
       "#T_50183_row3_col4, #T_50183_row3_col7 {\n",
       "  background-color: #fee799;\n",
       "  color: #000000;\n",
       "}\n",
       "#T_50183_row3_col5 {\n",
       "  background-color: #febd49;\n",
       "  color: #000000;\n",
       "}\n",
       "#T_50183_row3_col6 {\n",
       "  background-color: #fff3b4;\n",
       "  color: #000000;\n",
       "}\n",
       "#T_50183_row4_col0 {\n",
       "  background-color: #fee390;\n",
       "  color: #000000;\n",
       "}\n",
       "#T_50183_row4_col1 {\n",
       "  background-color: #fed471;\n",
       "  color: #000000;\n",
       "}\n",
       "#T_50183_row4_col2 {\n",
       "  background-color: #fffddd;\n",
       "  color: #000000;\n",
       "}\n",
       "#T_50183_row4_col3, #T_50183_row6_col3 {\n",
       "  background-color: #fee596;\n",
       "  color: #000000;\n",
       "}\n",
       "#T_50183_row4_col5 {\n",
       "  background-color: #e66a11;\n",
       "  color: #f1f1f1;\n",
       "}\n",
       "#T_50183_row4_col6 {\n",
       "  background-color: #fed069;\n",
       "  color: #000000;\n",
       "}\n",
       "#T_50183_row4_col7 {\n",
       "  background-color: #feeba2;\n",
       "  color: #000000;\n",
       "}\n",
       "#T_50183_row5_col1 {\n",
       "  background-color: #fed26d;\n",
       "  color: #000000;\n",
       "}\n",
       "#T_50183_row5_col3 {\n",
       "  background-color: #fedc82;\n",
       "  color: #000000;\n",
       "}\n",
       "#T_50183_row5_col4 {\n",
       "  background-color: #f4811d;\n",
       "  color: #f1f1f1;\n",
       "}\n",
       "#T_50183_row5_col6 {\n",
       "  background-color: #fed36f;\n",
       "  color: #000000;\n",
       "}\n",
       "#T_50183_row5_col7 {\n",
       "  background-color: #fee18c;\n",
       "  color: #000000;\n",
       "}\n",
       "#T_50183_row6_col0 {\n",
       "  background-color: #feb541;\n",
       "  color: #000000;\n",
       "}\n",
       "#T_50183_row6_col1 {\n",
       "  background-color: #fecb5f;\n",
       "  color: #000000;\n",
       "}\n",
       "#T_50183_row6_col2 {\n",
       "  background-color: #fff7be;\n",
       "  color: #000000;\n",
       "}\n",
       "#T_50183_row6_col4 {\n",
       "  background-color: #febe4a;\n",
       "  color: #000000;\n",
       "}\n",
       "#T_50183_row6_col5 {\n",
       "  background-color: #fe9e2d;\n",
       "  color: #000000;\n",
       "}\n",
       "#T_50183_row6_col7 {\n",
       "  background-color: #fff8c1;\n",
       "  color: #000000;\n",
       "}\n",
       "#T_50183_row7_col0 {\n",
       "  background-color: #feb945;\n",
       "  color: #000000;\n",
       "}\n",
       "#T_50183_row7_col2 {\n",
       "  background-color: #fed778;\n",
       "  color: #000000;\n",
       "}\n",
       "#T_50183_row7_col3 {\n",
       "  background-color: #feba46;\n",
       "  color: #000000;\n",
       "}\n",
       "#T_50183_row7_col5 {\n",
       "  background-color: #fb9225;\n",
       "  color: #000000;\n",
       "}\n",
       "#T_50183_row7_col6 {\n",
       "  background-color: #fee697;\n",
       "  color: #000000;\n",
       "}\n",
       "</style>\n",
       "<table id=\"T_50183\">\n",
       "  <thead>\n",
       "    <tr>\n",
       "      <th class=\"blank level0\" >&nbsp;</th>\n",
       "      <th id=\"T_50183_level0_col0\" class=\"col_heading level0 col0\" >Car_Name</th>\n",
       "      <th id=\"T_50183_level0_col1\" class=\"col_heading level0 col1\" >Year</th>\n",
       "      <th id=\"T_50183_level0_col2\" class=\"col_heading level0 col2\" >Selling_Price</th>\n",
       "      <th id=\"T_50183_level0_col3\" class=\"col_heading level0 col3\" >Kms_Driven</th>\n",
       "      <th id=\"T_50183_level0_col4\" class=\"col_heading level0 col4\" >Fuel_Type</th>\n",
       "      <th id=\"T_50183_level0_col5\" class=\"col_heading level0 col5\" >Seller_Type</th>\n",
       "      <th id=\"T_50183_level0_col6\" class=\"col_heading level0 col6\" >Transmission</th>\n",
       "      <th id=\"T_50183_level0_col7\" class=\"col_heading level0 col7\" >Owner</th>\n",
       "    </tr>\n",
       "  </thead>\n",
       "  <tbody>\n",
       "    <tr>\n",
       "      <th id=\"T_50183_level0_row0\" class=\"row_heading level0 row0\" >Car_Name</th>\n",
       "      <td id=\"T_50183_row0_col0\" class=\"data row0 col0\" >1.00</td>\n",
       "      <td id=\"T_50183_row0_col1\" class=\"data row0 col1\" >0.02</td>\n",
       "      <td id=\"T_50183_row0_col2\" class=\"data row0 col2\" >0.50</td>\n",
       "      <td id=\"T_50183_row0_col3\" class=\"data row0 col3\" >0.06</td>\n",
       "      <td id=\"T_50183_row0_col4\" class=\"data row0 col4\" >-0.37</td>\n",
       "      <td id=\"T_50183_row0_col5\" class=\"data row0 col5\" >-0.83</td>\n",
       "      <td id=\"T_50183_row0_col6\" class=\"data row0 col6\" >-0.06</td>\n",
       "      <td id=\"T_50183_row0_col7\" class=\"data row0 col7\" >-0.08</td>\n",
       "    </tr>\n",
       "    <tr>\n",
       "      <th id=\"T_50183_level0_row1\" class=\"row_heading level0 row1\" >Year</th>\n",
       "      <td id=\"T_50183_row1_col0\" class=\"data row1 col0\" >0.02</td>\n",
       "      <td id=\"T_50183_row1_col1\" class=\"data row1 col1\" >1.00</td>\n",
       "      <td id=\"T_50183_row1_col2\" class=\"data row1 col2\" >0.24</td>\n",
       "      <td id=\"T_50183_row1_col3\" class=\"data row1 col3\" >-0.52</td>\n",
       "      <td id=\"T_50183_row1_col4\" class=\"data row1 col4\" >-0.05</td>\n",
       "      <td id=\"T_50183_row1_col5\" class=\"data row1 col5\" >-0.04</td>\n",
       "      <td id=\"T_50183_row1_col6\" class=\"data row1 col6\" >0.00</td>\n",
       "      <td id=\"T_50183_row1_col7\" class=\"data row1 col7\" >-0.18</td>\n",
       "    </tr>\n",
       "    <tr>\n",
       "      <th id=\"T_50183_level0_row2\" class=\"row_heading level0 row2\" >Selling_Price</th>\n",
       "      <td id=\"T_50183_row2_col0\" class=\"data row2 col0\" >0.50</td>\n",
       "      <td id=\"T_50183_row2_col1\" class=\"data row2 col1\" >0.24</td>\n",
       "      <td id=\"T_50183_row2_col2\" class=\"data row2 col2\" >1.00</td>\n",
       "      <td id=\"T_50183_row2_col3\" class=\"data row2 col3\" >0.03</td>\n",
       "      <td id=\"T_50183_row2_col4\" class=\"data row2 col4\" >-0.51</td>\n",
       "      <td id=\"T_50183_row2_col5\" class=\"data row2 col5\" >-0.55</td>\n",
       "      <td id=\"T_50183_row2_col6\" class=\"data row2 col6\" >-0.37</td>\n",
       "      <td id=\"T_50183_row2_col7\" class=\"data row2 col7\" >-0.09</td>\n",
       "    </tr>\n",
       "    <tr>\n",
       "      <th id=\"T_50183_level0_row3\" class=\"row_heading level0 row3\" >Kms_Driven</th>\n",
       "      <td id=\"T_50183_row3_col0\" class=\"data row3 col0\" >0.06</td>\n",
       "      <td id=\"T_50183_row3_col1\" class=\"data row3 col1\" >-0.52</td>\n",
       "      <td id=\"T_50183_row3_col2\" class=\"data row3 col2\" >0.03</td>\n",
       "      <td id=\"T_50183_row3_col3\" class=\"data row3 col3\" >1.00</td>\n",
       "      <td id=\"T_50183_row3_col4\" class=\"data row3 col4\" >-0.17</td>\n",
       "      <td id=\"T_50183_row3_col5\" class=\"data row3 col5\" >-0.10</td>\n",
       "      <td id=\"T_50183_row3_col6\" class=\"data row3 col6\" >-0.16</td>\n",
       "      <td id=\"T_50183_row3_col7\" class=\"data row3 col7\" >0.09</td>\n",
       "    </tr>\n",
       "    <tr>\n",
       "      <th id=\"T_50183_level0_row4\" class=\"row_heading level0 row4\" >Fuel_Type</th>\n",
       "      <td id=\"T_50183_row4_col0\" class=\"data row4 col0\" >-0.37</td>\n",
       "      <td id=\"T_50183_row4_col1\" class=\"data row4 col1\" >-0.05</td>\n",
       "      <td id=\"T_50183_row4_col2\" class=\"data row4 col2\" >-0.51</td>\n",
       "      <td id=\"T_50183_row4_col3\" class=\"data row4 col3\" >-0.17</td>\n",
       "      <td id=\"T_50183_row4_col4\" class=\"data row4 col4\" >1.00</td>\n",
       "      <td id=\"T_50183_row4_col5\" class=\"data row4 col5\" >0.35</td>\n",
       "      <td id=\"T_50183_row4_col6\" class=\"data row4 col6\" >0.08</td>\n",
       "      <td id=\"T_50183_row4_col7\" class=\"data row4 col7\" >0.06</td>\n",
       "    </tr>\n",
       "    <tr>\n",
       "      <th id=\"T_50183_level0_row5\" class=\"row_heading level0 row5\" >Seller_Type</th>\n",
       "      <td id=\"T_50183_row5_col0\" class=\"data row5 col0\" >-0.83</td>\n",
       "      <td id=\"T_50183_row5_col1\" class=\"data row5 col1\" >-0.04</td>\n",
       "      <td id=\"T_50183_row5_col2\" class=\"data row5 col2\" >-0.55</td>\n",
       "      <td id=\"T_50183_row5_col3\" class=\"data row5 col3\" >-0.10</td>\n",
       "      <td id=\"T_50183_row5_col4\" class=\"data row5 col4\" >0.35</td>\n",
       "      <td id=\"T_50183_row5_col5\" class=\"data row5 col5\" >1.00</td>\n",
       "      <td id=\"T_50183_row5_col6\" class=\"data row5 col6\" >0.06</td>\n",
       "      <td id=\"T_50183_row5_col7\" class=\"data row5 col7\" >0.12</td>\n",
       "    </tr>\n",
       "    <tr>\n",
       "      <th id=\"T_50183_level0_row6\" class=\"row_heading level0 row6\" >Transmission</th>\n",
       "      <td id=\"T_50183_row6_col0\" class=\"data row6 col0\" >-0.06</td>\n",
       "      <td id=\"T_50183_row6_col1\" class=\"data row6 col1\" >0.00</td>\n",
       "      <td id=\"T_50183_row6_col2\" class=\"data row6 col2\" >-0.37</td>\n",
       "      <td id=\"T_50183_row6_col3\" class=\"data row6 col3\" >-0.16</td>\n",
       "      <td id=\"T_50183_row6_col4\" class=\"data row6 col4\" >0.08</td>\n",
       "      <td id=\"T_50183_row6_col5\" class=\"data row6 col5\" >0.06</td>\n",
       "      <td id=\"T_50183_row6_col6\" class=\"data row6 col6\" >1.00</td>\n",
       "      <td id=\"T_50183_row6_col7\" class=\"data row6 col7\" >-0.05</td>\n",
       "    </tr>\n",
       "    <tr>\n",
       "      <th id=\"T_50183_level0_row7\" class=\"row_heading level0 row7\" >Owner</th>\n",
       "      <td id=\"T_50183_row7_col0\" class=\"data row7 col0\" >-0.08</td>\n",
       "      <td id=\"T_50183_row7_col1\" class=\"data row7 col1\" >-0.18</td>\n",
       "      <td id=\"T_50183_row7_col2\" class=\"data row7 col2\" >-0.09</td>\n",
       "      <td id=\"T_50183_row7_col3\" class=\"data row7 col3\" >0.09</td>\n",
       "      <td id=\"T_50183_row7_col4\" class=\"data row7 col4\" >0.06</td>\n",
       "      <td id=\"T_50183_row7_col5\" class=\"data row7 col5\" >0.12</td>\n",
       "      <td id=\"T_50183_row7_col6\" class=\"data row7 col6\" >-0.05</td>\n",
       "      <td id=\"T_50183_row7_col7\" class=\"data row7 col7\" >1.00</td>\n",
       "    </tr>\n",
       "  </tbody>\n",
       "</table>\n"
      ],
      "text/plain": [
       "<pandas.io.formats.style.Styler at 0x33149d90>"
      ]
     },
     "execution_count": 21,
     "metadata": {},
     "output_type": "execute_result"
    }
   ],
   "source": [
    "# drop out highly correlated features for train\n",
    "upper_tri = Corr.where(np.triu(np.ones(Corr.shape),k=1).astype(np.bool))\n",
    "to_drop = [column for column in upper_tri.columns if any(upper_tri[column] > 0.85)]\n",
    "to_drop1 = [column for column in upper_tri.columns if any(upper_tri[column] < -0.5)]\n",
    "print('Removed columns are %s' %(len(to_drop)),  '\\n' 'More than 0.85 is: ', to_drop, '\\n less than -0.5 is: ', to_drop1)\n",
    "Cars_corr = Cars.drop(to_drop, axis=1)\n",
    "Cars_corrs  = Cars_corr.corr(method='pearson').style.background_gradient(cmap='YlOrBr').set_precision(2)\n",
    "Cars_corrs"
   ]
  },
  {
   "cell_type": "code",
   "execution_count": 22,
   "metadata": {},
   "outputs": [
    {
     "data": {
      "text/html": [
       "<div>\n",
       "<style scoped>\n",
       "    .dataframe tbody tr th:only-of-type {\n",
       "        vertical-align: middle;\n",
       "    }\n",
       "\n",
       "    .dataframe tbody tr th {\n",
       "        vertical-align: top;\n",
       "    }\n",
       "\n",
       "    .dataframe thead th {\n",
       "        text-align: right;\n",
       "    }\n",
       "</style>\n",
       "<table border=\"1\" class=\"dataframe\">\n",
       "  <thead>\n",
       "    <tr style=\"text-align: right;\">\n",
       "      <th></th>\n",
       "      <th>Car_Name</th>\n",
       "      <th>Year</th>\n",
       "      <th>Selling_Price</th>\n",
       "      <th>Kms_Driven</th>\n",
       "      <th>Fuel_Type</th>\n",
       "      <th>Seller_Type</th>\n",
       "      <th>Transmission</th>\n",
       "      <th>Owner</th>\n",
       "    </tr>\n",
       "  </thead>\n",
       "  <tbody>\n",
       "    <tr>\n",
       "      <th>0</th>\n",
       "      <td>90</td>\n",
       "      <td>2014</td>\n",
       "      <td>3.35</td>\n",
       "      <td>27000</td>\n",
       "      <td>2</td>\n",
       "      <td>0</td>\n",
       "      <td>1</td>\n",
       "      <td>0</td>\n",
       "    </tr>\n",
       "    <tr>\n",
       "      <th>1</th>\n",
       "      <td>93</td>\n",
       "      <td>2013</td>\n",
       "      <td>4.75</td>\n",
       "      <td>43000</td>\n",
       "      <td>1</td>\n",
       "      <td>0</td>\n",
       "      <td>1</td>\n",
       "      <td>0</td>\n",
       "    </tr>\n",
       "    <tr>\n",
       "      <th>2</th>\n",
       "      <td>68</td>\n",
       "      <td>2017</td>\n",
       "      <td>7.25</td>\n",
       "      <td>6900</td>\n",
       "      <td>2</td>\n",
       "      <td>0</td>\n",
       "      <td>1</td>\n",
       "      <td>0</td>\n",
       "    </tr>\n",
       "    <tr>\n",
       "      <th>3</th>\n",
       "      <td>96</td>\n",
       "      <td>2011</td>\n",
       "      <td>2.85</td>\n",
       "      <td>5200</td>\n",
       "      <td>2</td>\n",
       "      <td>0</td>\n",
       "      <td>1</td>\n",
       "      <td>0</td>\n",
       "    </tr>\n",
       "    <tr>\n",
       "      <th>4</th>\n",
       "      <td>92</td>\n",
       "      <td>2014</td>\n",
       "      <td>4.60</td>\n",
       "      <td>42450</td>\n",
       "      <td>1</td>\n",
       "      <td>0</td>\n",
       "      <td>1</td>\n",
       "      <td>0</td>\n",
       "    </tr>\n",
       "    <tr>\n",
       "      <th>...</th>\n",
       "      <td>...</td>\n",
       "      <td>...</td>\n",
       "      <td>...</td>\n",
       "      <td>...</td>\n",
       "      <td>...</td>\n",
       "      <td>...</td>\n",
       "      <td>...</td>\n",
       "      <td>...</td>\n",
       "    </tr>\n",
       "    <tr>\n",
       "      <th>296</th>\n",
       "      <td>69</td>\n",
       "      <td>2016</td>\n",
       "      <td>9.50</td>\n",
       "      <td>33988</td>\n",
       "      <td>1</td>\n",
       "      <td>0</td>\n",
       "      <td>1</td>\n",
       "      <td>0</td>\n",
       "    </tr>\n",
       "    <tr>\n",
       "      <th>297</th>\n",
       "      <td>66</td>\n",
       "      <td>2015</td>\n",
       "      <td>4.00</td>\n",
       "      <td>60000</td>\n",
       "      <td>2</td>\n",
       "      <td>0</td>\n",
       "      <td>1</td>\n",
       "      <td>0</td>\n",
       "    </tr>\n",
       "    <tr>\n",
       "      <th>298</th>\n",
       "      <td>69</td>\n",
       "      <td>2009</td>\n",
       "      <td>3.35</td>\n",
       "      <td>87934</td>\n",
       "      <td>2</td>\n",
       "      <td>0</td>\n",
       "      <td>1</td>\n",
       "      <td>0</td>\n",
       "    </tr>\n",
       "    <tr>\n",
       "      <th>299</th>\n",
       "      <td>69</td>\n",
       "      <td>2017</td>\n",
       "      <td>11.50</td>\n",
       "      <td>9000</td>\n",
       "      <td>1</td>\n",
       "      <td>0</td>\n",
       "      <td>1</td>\n",
       "      <td>0</td>\n",
       "    </tr>\n",
       "    <tr>\n",
       "      <th>300</th>\n",
       "      <td>66</td>\n",
       "      <td>2016</td>\n",
       "      <td>5.30</td>\n",
       "      <td>5464</td>\n",
       "      <td>2</td>\n",
       "      <td>0</td>\n",
       "      <td>1</td>\n",
       "      <td>0</td>\n",
       "    </tr>\n",
       "  </tbody>\n",
       "</table>\n",
       "<p>301 rows × 8 columns</p>\n",
       "</div>"
      ],
      "text/plain": [
       "     Car_Name  Year  Selling_Price  Kms_Driven  Fuel_Type  Seller_Type  \\\n",
       "0          90  2014           3.35       27000          2            0   \n",
       "1          93  2013           4.75       43000          1            0   \n",
       "2          68  2017           7.25        6900          2            0   \n",
       "3          96  2011           2.85        5200          2            0   \n",
       "4          92  2014           4.60       42450          1            0   \n",
       "..        ...   ...            ...         ...        ...          ...   \n",
       "296        69  2016           9.50       33988          1            0   \n",
       "297        66  2015           4.00       60000          2            0   \n",
       "298        69  2009           3.35       87934          2            0   \n",
       "299        69  2017          11.50        9000          1            0   \n",
       "300        66  2016           5.30        5464          2            0   \n",
       "\n",
       "     Transmission  Owner  \n",
       "0               1      0  \n",
       "1               1      0  \n",
       "2               1      0  \n",
       "3               1      0  \n",
       "4               1      0  \n",
       "..            ...    ...  \n",
       "296             1      0  \n",
       "297             1      0  \n",
       "298             1      0  \n",
       "299             1      0  \n",
       "300             1      0  \n",
       "\n",
       "[301 rows x 8 columns]"
      ]
     },
     "execution_count": 22,
     "metadata": {},
     "output_type": "execute_result"
    }
   ],
   "source": [
    "Cars_corr"
   ]
  },
  {
   "cell_type": "code",
   "execution_count": 23,
   "metadata": {},
   "outputs": [
    {
     "name": "stdout",
     "output_type": "stream",
     "text": [
      "Index(['Car_Name', 'Year', 'Present_Price', 'Kms_Driven', 'Fuel_Type',\n",
      "       'Seller_Type', 'Transmission', 'Owner'],\n",
      "      dtype='object')\n"
     ]
    },
    {
     "data": {
      "text/plain": [
       "(301, 8)"
      ]
     },
     "execution_count": 23,
     "metadata": {},
     "output_type": "execute_result"
    }
   ],
   "source": [
    "# Identify X data\n",
    "X = Cars.drop('Selling_Price',axis=1)\n",
    "\n",
    "cols = X.columns\n",
    "print(cols)\n",
    "X = X.values\n",
    "X.shape"
   ]
  },
  {
   "cell_type": "code",
   "execution_count": 24,
   "metadata": {},
   "outputs": [
    {
     "data": {
      "text/plain": [
       "(301,)"
      ]
     },
     "execution_count": 24,
     "metadata": {},
     "output_type": "execute_result"
    }
   ],
   "source": [
    "# Identify y data\n",
    "y = Cars[\"Selling_Price\"]\n",
    "y = y.values\n",
    "y.shape"
   ]
  },
  {
   "cell_type": "markdown",
   "metadata": {},
   "source": [
    "### Train-Test Split"
   ]
  },
  {
   "cell_type": "code",
   "execution_count": 25,
   "metadata": {},
   "outputs": [
    {
     "name": "stdout",
     "output_type": "stream",
     "text": [
      "X Train values: (240, 8) and Y train values: (240,)\n",
      "X Test values: (61, 8)  and Y test values: (61,)\n"
     ]
    }
   ],
   "source": [
    "X_train, X_test, y_train, y_test = train_test_split(X,y, test_size = 0.2)\n",
    "print ('X Train values:', X_train.shape, 'and Y train values:', y_train.shape)\n",
    "print ('X Test values:', X_test.shape, ' and Y test values:', y_test.shape)"
   ]
  },
  {
   "cell_type": "code",
   "execution_count": 26,
   "metadata": {},
   "outputs": [],
   "source": [
    "# Fit and Transform\n",
    "\n",
    "# Import and Training the model on the data\n",
    "\n",
    "sc_X = StandardScaler()\n",
    "X_train = sc_X.fit_transform(X_train)\n",
    "X_test = sc_X.transform(X_test)"
   ]
  },
  {
   "cell_type": "code",
   "execution_count": 27,
   "metadata": {},
   "outputs": [],
   "source": [
    "X_Train = pd.DataFrame(X_train, columns=[cols])\n",
    "\n",
    "X_Test = pd.DataFrame(X_test, columns=[cols])"
   ]
  },
  {
   "cell_type": "code",
   "execution_count": 28,
   "metadata": {},
   "outputs": [
    {
     "data": {
      "text/html": [
       "<div>\n",
       "<style scoped>\n",
       "    .dataframe tbody tr th:only-of-type {\n",
       "        vertical-align: middle;\n",
       "    }\n",
       "\n",
       "    .dataframe tbody tr th {\n",
       "        vertical-align: top;\n",
       "    }\n",
       "\n",
       "    .dataframe thead tr th {\n",
       "        text-align: left;\n",
       "    }\n",
       "</style>\n",
       "<table border=\"1\" class=\"dataframe\">\n",
       "  <thead>\n",
       "    <tr>\n",
       "      <th></th>\n",
       "      <th>Car_Name</th>\n",
       "      <th>Year</th>\n",
       "      <th>Present_Price</th>\n",
       "      <th>Kms_Driven</th>\n",
       "      <th>Fuel_Type</th>\n",
       "      <th>Seller_Type</th>\n",
       "      <th>Transmission</th>\n",
       "      <th>Owner</th>\n",
       "    </tr>\n",
       "  </thead>\n",
       "  <tbody>\n",
       "    <tr>\n",
       "      <th>0</th>\n",
       "      <td>0.113062</td>\n",
       "      <td>-2.672149</td>\n",
       "      <td>1.794015</td>\n",
       "      <td>2.626391</td>\n",
       "      <td>0.521216</td>\n",
       "      <td>1.441153</td>\n",
       "      <td>-2.504541</td>\n",
       "      <td>11.268172</td>\n",
       "    </tr>\n",
       "    <tr>\n",
       "      <th>1</th>\n",
       "      <td>-2.043081</td>\n",
       "      <td>-2.672149</td>\n",
       "      <td>-0.804212</td>\n",
       "      <td>1.380707</td>\n",
       "      <td>0.521216</td>\n",
       "      <td>1.441153</td>\n",
       "      <td>0.399275</td>\n",
       "      <td>-0.174824</td>\n",
       "    </tr>\n",
       "    <tr>\n",
       "      <th>2</th>\n",
       "      <td>0.804655</td>\n",
       "      <td>-0.575204</td>\n",
       "      <td>-0.121301</td>\n",
       "      <td>0.376967</td>\n",
       "      <td>-1.753180</td>\n",
       "      <td>-0.693889</td>\n",
       "      <td>0.399275</td>\n",
       "      <td>-0.174824</td>\n",
       "    </tr>\n",
       "    <tr>\n",
       "      <th>3</th>\n",
       "      <td>0.479199</td>\n",
       "      <td>0.822760</td>\n",
       "      <td>0.330958</td>\n",
       "      <td>0.148390</td>\n",
       "      <td>-1.753180</td>\n",
       "      <td>-0.693889</td>\n",
       "      <td>0.399275</td>\n",
       "      <td>-0.174824</td>\n",
       "    </tr>\n",
       "    <tr>\n",
       "      <th>4</th>\n",
       "      <td>0.194426</td>\n",
       "      <td>1.172251</td>\n",
       "      <td>0.524298</td>\n",
       "      <td>-0.702641</td>\n",
       "      <td>-1.753180</td>\n",
       "      <td>-0.693889</td>\n",
       "      <td>0.399275</td>\n",
       "      <td>-0.174824</td>\n",
       "    </tr>\n",
       "    <tr>\n",
       "      <th>...</th>\n",
       "      <td>...</td>\n",
       "      <td>...</td>\n",
       "      <td>...</td>\n",
       "      <td>...</td>\n",
       "      <td>...</td>\n",
       "      <td>...</td>\n",
       "      <td>...</td>\n",
       "      <td>...</td>\n",
       "    </tr>\n",
       "    <tr>\n",
       "      <th>235</th>\n",
       "      <td>0.682609</td>\n",
       "      <td>0.473269</td>\n",
       "      <td>3.176796</td>\n",
       "      <td>0.248511</td>\n",
       "      <td>-1.753180</td>\n",
       "      <td>-0.693889</td>\n",
       "      <td>-2.504541</td>\n",
       "      <td>-0.174824</td>\n",
       "    </tr>\n",
       "    <tr>\n",
       "      <th>236</th>\n",
       "      <td>-2.205809</td>\n",
       "      <td>-0.575204</td>\n",
       "      <td>-0.824563</td>\n",
       "      <td>-0.302156</td>\n",
       "      <td>0.521216</td>\n",
       "      <td>1.441153</td>\n",
       "      <td>0.399275</td>\n",
       "      <td>3.639508</td>\n",
       "    </tr>\n",
       "    <tr>\n",
       "      <th>237</th>\n",
       "      <td>0.886019</td>\n",
       "      <td>-3.021640</td>\n",
       "      <td>0.659976</td>\n",
       "      <td>0.949360</td>\n",
       "      <td>0.521216</td>\n",
       "      <td>-0.693889</td>\n",
       "      <td>0.399275</td>\n",
       "      <td>-0.174824</td>\n",
       "    </tr>\n",
       "    <tr>\n",
       "      <th>238</th>\n",
       "      <td>-0.659895</td>\n",
       "      <td>0.822760</td>\n",
       "      <td>-0.719413</td>\n",
       "      <td>-0.477368</td>\n",
       "      <td>0.521216</td>\n",
       "      <td>1.441153</td>\n",
       "      <td>0.399275</td>\n",
       "      <td>-0.174824</td>\n",
       "    </tr>\n",
       "    <tr>\n",
       "      <th>239</th>\n",
       "      <td>-0.090348</td>\n",
       "      <td>1.172251</td>\n",
       "      <td>-0.481977</td>\n",
       "      <td>-0.874474</td>\n",
       "      <td>0.521216</td>\n",
       "      <td>-0.693889</td>\n",
       "      <td>0.399275</td>\n",
       "      <td>-0.174824</td>\n",
       "    </tr>\n",
       "  </tbody>\n",
       "</table>\n",
       "<p>240 rows × 8 columns</p>\n",
       "</div>"
      ],
      "text/plain": [
       "     Car_Name      Year Present_Price Kms_Driven Fuel_Type Seller_Type  \\\n",
       "0    0.113062 -2.672149      1.794015   2.626391  0.521216    1.441153   \n",
       "1   -2.043081 -2.672149     -0.804212   1.380707  0.521216    1.441153   \n",
       "2    0.804655 -0.575204     -0.121301   0.376967 -1.753180   -0.693889   \n",
       "3    0.479199  0.822760      0.330958   0.148390 -1.753180   -0.693889   \n",
       "4    0.194426  1.172251      0.524298  -0.702641 -1.753180   -0.693889   \n",
       "..        ...       ...           ...        ...       ...         ...   \n",
       "235  0.682609  0.473269      3.176796   0.248511 -1.753180   -0.693889   \n",
       "236 -2.205809 -0.575204     -0.824563  -0.302156  0.521216    1.441153   \n",
       "237  0.886019 -3.021640      0.659976   0.949360  0.521216   -0.693889   \n",
       "238 -0.659895  0.822760     -0.719413  -0.477368  0.521216    1.441153   \n",
       "239 -0.090348  1.172251     -0.481977  -0.874474  0.521216   -0.693889   \n",
       "\n",
       "    Transmission      Owner  \n",
       "0      -2.504541  11.268172  \n",
       "1       0.399275  -0.174824  \n",
       "2       0.399275  -0.174824  \n",
       "3       0.399275  -0.174824  \n",
       "4       0.399275  -0.174824  \n",
       "..           ...        ...  \n",
       "235    -2.504541  -0.174824  \n",
       "236     0.399275   3.639508  \n",
       "237     0.399275  -0.174824  \n",
       "238     0.399275  -0.174824  \n",
       "239     0.399275  -0.174824  \n",
       "\n",
       "[240 rows x 8 columns]"
      ]
     },
     "execution_count": 28,
     "metadata": {},
     "output_type": "execute_result"
    }
   ],
   "source": [
    "X_Train"
   ]
  },
  {
   "cell_type": "markdown",
   "metadata": {},
   "source": [
    "# Modelling"
   ]
  },
  {
   "cell_type": "code",
   "execution_count": 29,
   "metadata": {},
   "outputs": [
    {
     "name": "stdout",
     "output_type": "stream",
     "text": [
      "Accuracy for LinearRegression() is 0.84\n",
      "Accuracy for Ridge() is 0.84\n",
      "Accuracy for Lasso() is 0.48\n",
      "Accuracy for ElasticNet() is 0.42\n",
      "Accuracy for KNeighborsRegressor() is 0.95\n",
      "Accuracy for DecisionTreeRegressor() is 0.94\n",
      "Accuracy for RandomForestRegressor() is 0.97\n",
      "Accuracy for AdaBoostRegressor() is 0.94\n",
      "Accuracy for BaggingRegressor() is 0.97\n",
      "Accuracy for GradientBoostingRegressor() is 0.97\n",
      "Accuracy for LGBMRegressor() is 0.91\n",
      "Accuracy for XGBRegressor(base_score=0.5, booster='gbtree', colsample_bylevel=1,\n",
      "             colsample_bynode=1, colsample_bytree=1, gamma=0, gpu_id=-1,\n",
      "             importance_type='gain', interaction_constraints='',\n",
      "             learning_rate=0.300000012, max_delta_step=0, max_depth=6,\n",
      "             min_child_weight=1, missing=nan, monotone_constraints='()',\n",
      "             n_estimators=100, n_jobs=0, num_parallel_tree=1, random_state=0,\n",
      "             reg_alpha=0, reg_lambda=1, scale_pos_weight=1, subsample=1,\n",
      "             tree_method='exact', validate_parameters=1, verbosity=None) is 0.97\n"
     ]
    },
    {
     "data": {
      "text/html": [
       "<div>\n",
       "<style scoped>\n",
       "    .dataframe tbody tr th:only-of-type {\n",
       "        vertical-align: middle;\n",
       "    }\n",
       "\n",
       "    .dataframe tbody tr th {\n",
       "        vertical-align: top;\n",
       "    }\n",
       "\n",
       "    .dataframe thead th {\n",
       "        text-align: right;\n",
       "    }\n",
       "</style>\n",
       "<table border=\"1\" class=\"dataframe\">\n",
       "  <thead>\n",
       "    <tr style=\"text-align: right;\">\n",
       "      <th></th>\n",
       "      <th>R2 score</th>\n",
       "    </tr>\n",
       "  </thead>\n",
       "  <tbody>\n",
       "    <tr>\n",
       "      <th>LinearRegression</th>\n",
       "      <td>0.739933</td>\n",
       "    </tr>\n",
       "    <tr>\n",
       "      <th>Ridge</th>\n",
       "      <td>0.746189</td>\n",
       "    </tr>\n",
       "    <tr>\n",
       "      <th>Lasso</th>\n",
       "      <td>0.729477</td>\n",
       "    </tr>\n",
       "    <tr>\n",
       "      <th>ElasticNet</th>\n",
       "      <td>0.725154</td>\n",
       "    </tr>\n",
       "    <tr>\n",
       "      <th>KNN</th>\n",
       "      <td>0.849180</td>\n",
       "    </tr>\n",
       "    <tr>\n",
       "      <th>Decision Tree</th>\n",
       "      <td>0.798666</td>\n",
       "    </tr>\n",
       "    <tr>\n",
       "      <th>Random Forest</th>\n",
       "      <td>0.892260</td>\n",
       "    </tr>\n",
       "    <tr>\n",
       "      <th>AdaBoostRegressor</th>\n",
       "      <td>0.802924</td>\n",
       "    </tr>\n",
       "    <tr>\n",
       "      <th>BaggingRegressor</th>\n",
       "      <td>0.901880</td>\n",
       "    </tr>\n",
       "    <tr>\n",
       "      <th>GradientBoostingRegressor</th>\n",
       "      <td>0.880603</td>\n",
       "    </tr>\n",
       "    <tr>\n",
       "      <th>LGBMRegressor</th>\n",
       "      <td>0.806977</td>\n",
       "    </tr>\n",
       "    <tr>\n",
       "      <th>XGBRegressor</th>\n",
       "      <td>0.889251</td>\n",
       "    </tr>\n",
       "  </tbody>\n",
       "</table>\n",
       "</div>"
      ],
      "text/plain": [
       "                           R2 score\n",
       "LinearRegression           0.739933\n",
       "Ridge                      0.746189\n",
       "Lasso                      0.729477\n",
       "ElasticNet                 0.725154\n",
       "KNN                        0.849180\n",
       "Decision Tree              0.798666\n",
       "Random Forest              0.892260\n",
       "AdaBoostRegressor          0.802924\n",
       "BaggingRegressor           0.901880\n",
       "GradientBoostingRegressor  0.880603\n",
       "LGBMRegressor              0.806977\n",
       "XGBRegressor               0.889251"
      ]
     },
     "execution_count": 29,
     "metadata": {},
     "output_type": "execute_result"
    }
   ],
   "source": [
    "kfold = KFold(n_splits=10) # k=10, split the data into 10 equal parts\n",
    "\n",
    "Score=[]\n",
    "scoring = 'r2'\n",
    "\n",
    "Names=['LinearRegression','Ridge','Lasso','ElasticNet', 'KNN','Decision Tree','Random Forest',\n",
    "             'AdaBoostRegressor','BaggingRegressor','GradientBoostingRegressor','LGBMRegressor','XGBRegressor']\n",
    "models=[LinearRegression(),Ridge(), Lasso(),ElasticNet(), KNeighborsRegressor(),DecisionTreeRegressor(),\n",
    "        RandomForestRegressor(n_estimators=100),AdaBoostRegressor(),BaggingRegressor(),GradientBoostingRegressor(),\n",
    "        LGBMRegressor(),XGBRegressor()]\n",
    "for i in models:\n",
    "    model = i\n",
    "    \n",
    "    model.fit(X_train,y_train)\n",
    "    pred=model.predict(X_test)\n",
    "    print('Accuracy for %s is'%(model),round(r2_score(pred,y_test),2))\n",
    "    \n",
    "    cv_result = cross_val_score(model,X_train, y_train, cv = kfold,scoring = scoring)\n",
    "       \n",
    "    Score.append(cv_result.mean())\n",
    "       \n",
    "Compare_models=pd.DataFrame({'R2 score':Score},index=Names)       \n",
    "Compare_models"
   ]
  },
  {
   "cell_type": "markdown",
   "metadata": {},
   "source": [
    "**Gradient Boosting, Random Forest and XGBoost** have high value than others. Let is try with hyperparametr tuning for this algortims."
   ]
  },
  {
   "cell_type": "markdown",
   "metadata": {},
   "source": [
    "  ## Gradient Boosting Regressor"
   ]
  },
  {
   "cell_type": "code",
   "execution_count": 30,
   "metadata": {},
   "outputs": [
    {
     "name": "stdout",
     "output_type": "stream",
     "text": [
      "Gradient Boosting Regressor accuracy score: 0.971: \n"
     ]
    }
   ],
   "source": [
    "#fit model\n",
    "GBR=GradientBoostingRegressor()\n",
    "\n",
    "#predict\n",
    "GBR.fit(X_train,y_train)\n",
    "\n",
    "#accuray\n",
    "y_pred = GBR.predict(X_test)\n",
    "print (\"Gradient Boosting Regressor accuracy score: {0:0.3f}: \".format(r2_score(y_test, y_pred)))"
   ]
  },
  {
   "cell_type": "code",
   "execution_count": 31,
   "metadata": {},
   "outputs": [
    {
     "name": "stdout",
     "output_type": "stream",
     "text": [
      "Gradient Boosting Regressor CV score: 0.880: \n"
     ]
    }
   ],
   "source": [
    "GBR=GradientBoostingRegressor()\n",
    "\n",
    "GBR_score = cross_val_score(GBR,X_train, y_train, cv = kfold,scoring = scoring)\n",
    "print (\"Gradient Boosting Regressor CV score: {0:0.3f}: \".format(GBR_score.mean()))"
   ]
  },
  {
   "cell_type": "markdown",
   "metadata": {},
   "source": [
    "### Hyperparameter Tuning Gradient Boosting Regressor"
   ]
  },
  {
   "cell_type": "code",
   "execution_count": 32,
   "metadata": {},
   "outputs": [],
   "source": [
    "gbr_grid = {'loss':['huber', 'quantile'],\n",
    "            'learning_rate':[float(x) for x in np.linspace(0.1, 10.0, num = 8)],\n",
    "           'n_estimators':[int(x) for x in np.linspace(20, 200, num = 10)],\n",
    "            'subsample':[float(x) for x in np.linspace(1.0, 15.0, num = 5)],\n",
    "            'criterion':['friedman_mse', 'squared_error', 'mse', 'mae'],\n",
    "            'max_features':['auto','sqrt','log2'],\n",
    "           'max_leaf_nodes':[int(x) for x in np.linspace(10, 100, num = 10)]}\n"
   ]
  },
  {
   "cell_type": "code",
   "execution_count": 33,
   "metadata": {},
   "outputs": [
    {
     "name": "stdout",
     "output_type": "stream",
     "text": [
      "Fitting 10 folds for each of 10 candidates, totalling 100 fits\n"
     ]
    },
    {
     "data": {
      "text/plain": [
       "RandomizedSearchCV(cv=10, estimator=GradientBoostingRegressor(), n_jobs=6,\n",
       "                   param_distributions={'criterion': ['friedman_mse',\n",
       "                                                      'squared_error', 'mse',\n",
       "                                                      'mae'],\n",
       "                                        'learning_rate': [0.1,\n",
       "                                                          1.5142857142857145,\n",
       "                                                          2.928571428571429,\n",
       "                                                          4.3428571428571425,\n",
       "                                                          5.757142857142857,\n",
       "                                                          7.171428571428572,\n",
       "                                                          8.585714285714285,\n",
       "                                                          10.0],\n",
       "                                        'loss': ['huber', 'quantile'],\n",
       "                                        'max_features': ['auto', 'sqrt',\n",
       "                                                         'log2'],\n",
       "                                        'max_leaf_nodes': [10, 20, 30, 40, 50,\n",
       "                                                           60, 70, 80, 90,\n",
       "                                                           100],\n",
       "                                        'n_estimators': [20, 40, 60, 80, 100,\n",
       "                                                         120, 140, 160, 180,\n",
       "                                                         200],\n",
       "                                        'subsample': [1.0, 4.5, 8.0, 11.5,\n",
       "                                                      15.0]},\n",
       "                   random_state=42, verbose=3)"
      ]
     },
     "execution_count": 33,
     "metadata": {},
     "output_type": "execute_result"
    }
   ],
   "source": [
    "GBR = GradientBoostingRegressor()\n",
    "GBR_rscv = RandomizedSearchCV(GBR, param_distributions = gbr_grid, cv = 10, verbose = 3, random_state = 42, n_jobs = 6)\n",
    "GBR_rscv.fit(X_train, y_train)"
   ]
  },
  {
   "cell_type": "code",
   "execution_count": 34,
   "metadata": {},
   "outputs": [
    {
     "data": {
      "text/plain": [
       "{'subsample': 1.0,\n",
       " 'n_estimators': 60,\n",
       " 'max_leaf_nodes': 80,\n",
       " 'max_features': 'sqrt',\n",
       " 'loss': 'huber',\n",
       " 'learning_rate': 0.1,\n",
       " 'criterion': 'friedman_mse'}"
      ]
     },
     "execution_count": 34,
     "metadata": {},
     "output_type": "execute_result"
    }
   ],
   "source": [
    "# Best paramtr for Gradient Boosting Regressor\n",
    "GBR_rscv.best_params_"
   ]
  },
  {
   "cell_type": "code",
   "execution_count": 35,
   "metadata": {},
   "outputs": [
    {
     "name": "stdout",
     "output_type": "stream",
     "text": [
      "Gradient Boosting Regressor accuracy score: 0.964: \n"
     ]
    }
   ],
   "source": [
    "GBR=GradientBoostingRegressor(**GBR_rscv.best_params_)\n",
    "\n",
    "#fit model\n",
    "\n",
    "#predict\n",
    "GBR.fit(X_train,y_train)\n",
    "\n",
    "#accuray\n",
    "GBR_y_pred = GBR.predict(X_test)\n",
    "print (\"Gradient Boosting Regressor accuracy score: {0:0.3f}: \".format(r2_score(y_test, GBR_y_pred)))"
   ]
  },
  {
   "cell_type": "markdown",
   "metadata": {},
   "source": [
    "  ## Random Forest Regressor"
   ]
  },
  {
   "cell_type": "code",
   "execution_count": 36,
   "metadata": {},
   "outputs": [
    {
     "name": "stdout",
     "output_type": "stream",
     "text": [
      "RFR accuracy score: 0.969: \n"
     ]
    }
   ],
   "source": [
    "#fit model\n",
    "RFR=RandomForestRegressor()\n",
    "\n",
    "#predict\n",
    "RFR.fit(X_train,y_train)\n",
    "\n",
    "#accuray\n",
    "y_pred = RFR.predict(X_test)\n",
    "print (\"RFR accuracy score: {0:0.3f}: \".format(r2_score(y_test, y_pred)))"
   ]
  },
  {
   "cell_type": "code",
   "execution_count": 37,
   "metadata": {},
   "outputs": [
    {
     "name": "stdout",
     "output_type": "stream",
     "text": [
      "Random Forest Regressor CV score: 0.906: \n"
     ]
    }
   ],
   "source": [
    "RFR=RandomForestRegressor()\n",
    "\n",
    "RFR_score = cross_val_score(RFR,X_train, y_train, cv = kfold,scoring = scoring)\n",
    "print (\"Random Forest Regressor CV score: {0:0.3f}: \".format(RFR_score.mean()))"
   ]
  },
  {
   "cell_type": "markdown",
   "metadata": {},
   "source": [
    "### Hyperparameter Tuning Random Forest Regressor"
   ]
  },
  {
   "cell_type": "code",
   "execution_count": 38,
   "metadata": {},
   "outputs": [],
   "source": [
    "n_estimators = [int(x) for x in np.linspace(start = 200, stop = 2000, num = 10)]\n",
    "max_features = ['auto', 'sqrt']\n",
    "max_depth = [int(x) for x in np.linspace(10, 100, num = 10)]\n",
    "bootstrap = [True, False]\n",
    "random_grid = {'n_estimators': n_estimators,\n",
    "               'max_features': max_features,\n",
    "               'max_depth': max_depth,\n",
    "               'bootstrap': bootstrap}"
   ]
  },
  {
   "cell_type": "code",
   "execution_count": 39,
   "metadata": {},
   "outputs": [
    {
     "name": "stdout",
     "output_type": "stream",
     "text": [
      "Fitting 10 folds for each of 10 candidates, totalling 100 fits\n"
     ]
    },
    {
     "data": {
      "text/plain": [
       "RandomizedSearchCV(cv=10, estimator=RandomForestRegressor(), n_jobs=6,\n",
       "                   param_distributions={'bootstrap': [True, False],\n",
       "                                        'max_depth': [10, 20, 30, 40, 50, 60,\n",
       "                                                      70, 80, 90, 100],\n",
       "                                        'max_features': ['auto', 'sqrt'],\n",
       "                                        'n_estimators': [200, 400, 600, 800,\n",
       "                                                         1000, 1200, 1400, 1600,\n",
       "                                                         1800, 2000]},\n",
       "                   random_state=42, verbose=3)"
      ]
     },
     "execution_count": 39,
     "metadata": {},
     "output_type": "execute_result"
    }
   ],
   "source": [
    "RFR = RandomForestRegressor()\n",
    "RFR_rscv = RandomizedSearchCV(RFR, param_distributions = random_grid, cv = 10, verbose = 3, random_state = 42, n_jobs = 6)\n",
    "RFR_rscv.fit(X_train, y_train)"
   ]
  },
  {
   "cell_type": "code",
   "execution_count": 40,
   "metadata": {},
   "outputs": [
    {
     "data": {
      "text/plain": [
       "{'n_estimators': 1400,\n",
       " 'max_features': 'auto',\n",
       " 'max_depth': 70,\n",
       " 'bootstrap': True}"
      ]
     },
     "execution_count": 40,
     "metadata": {},
     "output_type": "execute_result"
    }
   ],
   "source": [
    "# Best paramtr for Random Forest Regressor\n",
    "RFR_rscv.best_params_"
   ]
  },
  {
   "cell_type": "code",
   "execution_count": 41,
   "metadata": {},
   "outputs": [
    {
     "name": "stdout",
     "output_type": "stream",
     "text": [
      "Random Forest Regressor accuracy score: 0.973: \n"
     ]
    }
   ],
   "source": [
    "#fit model\n",
    "RFR=RandomForestRegressor(**RFR_rscv.best_params_)\n",
    "\n",
    "#predict\n",
    "RFR.fit(X_train,y_train)\n",
    "\n",
    "#accuray\n",
    "RFR_y_pred = RFR.predict(X_test)\n",
    "print (\"Random Forest Regressor accuracy score: {0:0.3f}: \".format(r2_score(y_test, RFR_y_pred)))"
   ]
  },
  {
   "cell_type": "markdown",
   "metadata": {},
   "source": [
    "  ## XGB Regressor"
   ]
  },
  {
   "cell_type": "code",
   "execution_count": 42,
   "metadata": {},
   "outputs": [
    {
     "name": "stdout",
     "output_type": "stream",
     "text": [
      "XGBoost Regressor accuracy score: 0.971: \n"
     ]
    }
   ],
   "source": [
    "#fit model\n",
    "XGBR=XGBRegressor()\n",
    "\n",
    "#predict\n",
    "XGBR.fit(X_train,y_train)\n",
    "\n",
    "#accuray\n",
    "y_pred = XGBR.predict(X_test)\n",
    "print (\"XGBoost Regressor accuracy score: {0:0.3f}: \".format(r2_score(y_test, y_pred)))"
   ]
  },
  {
   "cell_type": "code",
   "execution_count": 43,
   "metadata": {},
   "outputs": [
    {
     "name": "stdout",
     "output_type": "stream",
     "text": [
      "XGBoost Regressor CV score: 0.906: \n"
     ]
    }
   ],
   "source": [
    "XGBR=XGBRegressor()\n",
    "\n",
    "XGBR_score = cross_val_score(XGBR,X_train, y_train, cv = kfold,scoring = scoring)\n",
    "print (\"XGBoost Regressor CV score: {0:0.3f}: \".format(RFR_score.mean()))"
   ]
  },
  {
   "cell_type": "markdown",
   "metadata": {},
   "source": [
    "### Hyperparameter Tuning Random XGBoost Regressor"
   ]
  },
  {
   "cell_type": "code",
   "execution_count": 44,
   "metadata": {},
   "outputs": [],
   "source": [
    "params = { 'max_depth': [3,6,10],\n",
    "           'learning_rate': [0.01, 0.05, 0.1],\n",
    "           'n_estimators': [100, 500, 1000],\n",
    "           'colsample_bytree': [0.3, 0.7]}"
   ]
  },
  {
   "cell_type": "code",
   "execution_count": 45,
   "metadata": {},
   "outputs": [
    {
     "name": "stdout",
     "output_type": "stream",
     "text": [
      "Fitting 10 folds for each of 10 candidates, totalling 100 fits\n"
     ]
    },
    {
     "data": {
      "text/plain": [
       "RandomizedSearchCV(cv=10,\n",
       "                   estimator=XGBRegressor(base_score=None, booster=None,\n",
       "                                          colsample_bylevel=None,\n",
       "                                          colsample_bynode=None,\n",
       "                                          colsample_bytree=None, gamma=None,\n",
       "                                          gpu_id=None, importance_type='gain',\n",
       "                                          interaction_constraints=None,\n",
       "                                          learning_rate=None,\n",
       "                                          max_delta_step=None, max_depth=None,\n",
       "                                          min_child_weight=None, missing=nan,\n",
       "                                          monotone_constraints=None,\n",
       "                                          n_estimators=100, n_jobs=None,\n",
       "                                          num_parallel_tree=None,\n",
       "                                          random_state=None, reg_alpha=None,\n",
       "                                          reg_lambda=None,\n",
       "                                          scale_pos_weight=None, subsample=None,\n",
       "                                          tree_method=None,\n",
       "                                          validate_parameters=None,\n",
       "                                          verbosity=None),\n",
       "                   n_jobs=6,\n",
       "                   param_distributions={'colsample_bytree': [0.3, 0.7],\n",
       "                                        'learning_rate': [0.01, 0.05, 0.1],\n",
       "                                        'max_depth': [3, 6, 10],\n",
       "                                        'n_estimators': [100, 500, 1000]},\n",
       "                   random_state=42, verbose=3)"
      ]
     },
     "execution_count": 45,
     "metadata": {},
     "output_type": "execute_result"
    }
   ],
   "source": [
    "XGBR = XGBRegressor()\n",
    "XGBR_rscv = RandomizedSearchCV(XGBR, param_distributions = params, cv = 10, verbose = 3, random_state = 42, n_jobs = 6)\n",
    "XGBR_rscv.fit(X_train, y_train)"
   ]
  },
  {
   "cell_type": "code",
   "execution_count": 46,
   "metadata": {},
   "outputs": [
    {
     "data": {
      "text/plain": [
       "{'n_estimators': 500,\n",
       " 'max_depth': 10,\n",
       " 'learning_rate': 0.1,\n",
       " 'colsample_bytree': 0.7}"
      ]
     },
     "execution_count": 46,
     "metadata": {},
     "output_type": "execute_result"
    }
   ],
   "source": [
    "# Best paramtr for XGBoost Regressor\n",
    "XGBR_rscv.best_params_"
   ]
  },
  {
   "cell_type": "code",
   "execution_count": 47,
   "metadata": {},
   "outputs": [
    {
     "name": "stdout",
     "output_type": "stream",
     "text": [
      "XGBoost Regressor accuracy score: 0.961: \n"
     ]
    }
   ],
   "source": [
    "#fit model\n",
    "XGBR=XGBRegressor(**XGBR_rscv.best_params_)\n",
    "\n",
    "#predict\n",
    "XGBR.fit(X_train,y_train)\n",
    "\n",
    "#accuray\n",
    "XGBR_y_pred = XGBR.predict(X_test)\n",
    "print (\"XGBoost Regressor accuracy score: {0:0.3f}: \".format(r2_score(y_test, XGBR_y_pred)))"
   ]
  },
  {
   "cell_type": "code",
   "execution_count": 48,
   "metadata": {},
   "outputs": [
    {
     "name": "stdout",
     "output_type": "stream",
     "text": [
      "XGBoost Regressor CV score: 0.906: \n"
     ]
    }
   ],
   "source": [
    "XGBR=XGBRegressor(**XGBR_rscv.best_params_)\n",
    "\n",
    "XGBR_score = cross_val_score(XGBR,X_train, y_train, cv = kfold,scoring = scoring)\n",
    "print (\"XGBoost Regressor CV score: {0:0.3f}: \".format(RFR_score.mean()))"
   ]
  },
  {
   "cell_type": "code",
   "execution_count": 49,
   "metadata": {},
   "outputs": [
    {
     "data": {
      "text/html": [
       "<div>\n",
       "<style scoped>\n",
       "    .dataframe tbody tr th:only-of-type {\n",
       "        vertical-align: middle;\n",
       "    }\n",
       "\n",
       "    .dataframe tbody tr th {\n",
       "        vertical-align: top;\n",
       "    }\n",
       "\n",
       "    .dataframe thead th {\n",
       "        text-align: right;\n",
       "    }\n",
       "</style>\n",
       "<table border=\"1\" class=\"dataframe\">\n",
       "  <thead>\n",
       "    <tr style=\"text-align: right;\">\n",
       "      <th></th>\n",
       "      <th>R2_Score</th>\n",
       "      <th>MAE</th>\n",
       "      <th>MSE</th>\n",
       "      <th>RMSE</th>\n",
       "    </tr>\n",
       "    <tr>\n",
       "      <th>Model_names</th>\n",
       "      <th></th>\n",
       "      <th></th>\n",
       "      <th></th>\n",
       "      <th></th>\n",
       "    </tr>\n",
       "  </thead>\n",
       "  <tbody>\n",
       "    <tr>\n",
       "      <th>XGBoost</th>\n",
       "      <td>0.961158</td>\n",
       "      <td>0.491692</td>\n",
       "      <td>0.835344</td>\n",
       "      <td>0.913971</td>\n",
       "    </tr>\n",
       "    <tr>\n",
       "      <th>Random Forest</th>\n",
       "      <td>0.973004</td>\n",
       "      <td>0.440340</td>\n",
       "      <td>0.580583</td>\n",
       "      <td>0.761960</td>\n",
       "    </tr>\n",
       "    <tr>\n",
       "      <th>Gradient Boosting</th>\n",
       "      <td>0.963957</td>\n",
       "      <td>0.494307</td>\n",
       "      <td>0.775132</td>\n",
       "      <td>0.880416</td>\n",
       "    </tr>\n",
       "  </tbody>\n",
       "</table>\n",
       "</div>"
      ],
      "text/plain": [
       "                   R2_Score       MAE       MSE      RMSE\n",
       "Model_names                                              \n",
       "XGBoost            0.961158  0.491692  0.835344  0.913971\n",
       "Random Forest      0.973004  0.440340  0.580583  0.761960\n",
       "Gradient Boosting  0.963957  0.494307  0.775132  0.880416"
      ]
     },
     "execution_count": 49,
     "metadata": {},
     "output_type": "execute_result"
    }
   ],
   "source": [
    "# Model names with the r2_score\n",
    "algorithms = {\"Model_names\" : [\"XGBoost\", \"Random Forest\", 'Gradient Boosting'], \n",
    "              \"R2_Score\"   : [r2_score(y_test, XGBR_y_pred), r2_score(y_test, RFR_y_pred),r2_score(y_test, GBR_y_pred), ],\n",
    "              \"MAE\"   : [mean_absolute_error(y_test, XGBR_y_pred), mean_absolute_error(y_test, RFR_y_pred),mean_absolute_error(y_test, GBR_y_pred), ], \n",
    "              \"MSE\"   : [mean_squared_error(y_test, XGBR_y_pred), mean_squared_error(y_test, RFR_y_pred),mean_squared_error(y_test, GBR_y_pred), ], \n",
    "              \"RMSE\"   : [np.sqrt(mean_squared_error(y_test, XGBR_y_pred)), np.sqrt(mean_squared_error(y_test, RFR_y_pred)),np.sqrt(mean_squared_error(y_test, GBR_y_pred)),]\n",
    "                      }\n",
    "algorithms_pd  = pd.DataFrame(algorithms).set_index(\"Model_names\")\n",
    "algorithms_pd"
   ]
  },
  {
   "cell_type": "markdown",
   "metadata": {},
   "source": [
    "It is obviously by Hyperparametr tuning XGBoost and Gradient Boosting receive more than 0.96, Random Forest model receives 0.97 accuracy."
   ]
  }
 ],
 "metadata": {
  "kernelspec": {
   "display_name": "Python 3",
   "language": "python",
   "name": "python3"
  },
  "language_info": {
   "codemirror_mode": {
    "name": "ipython",
    "version": 3
   },
   "file_extension": ".py",
   "mimetype": "text/x-python",
   "name": "python",
   "nbconvert_exporter": "python",
   "pygments_lexer": "ipython3",
   "version": "3.8.6"
  }
 },
 "nbformat": 4,
 "nbformat_minor": 4
}
